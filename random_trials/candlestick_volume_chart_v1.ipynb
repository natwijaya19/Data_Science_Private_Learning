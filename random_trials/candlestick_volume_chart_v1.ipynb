{
 "cells": [
  {
   "cell_type": "code",
   "execution_count": 8,
   "outputs": [
    {
     "data": {
      "text/plain": "                 High        Low       Open      Close      Volume  Adj Close\nDate                                                                         \n2018-12-31  58.615383  56.538464  57.846153  58.230770  14086995.0  57.403370\n2019-01-02  62.923077  57.000000  57.384617  61.923077  16816033.0  61.043213\n2019-01-03  63.076923  59.846153  61.692307  62.000000  15983370.0  61.119045\n2019-01-04  63.538464  61.384617  63.000000  63.307693  15610894.0  62.408161\n2019-01-07  67.615387  63.769230  65.769234  67.230766  23358972.0  66.275475\n...               ...        ...        ...        ...         ...        ...\n2022-06-27  67.900002  66.139999  67.470001  66.709999   6798300.0  66.709999\n2022-06-28  68.449997  65.360001  67.449997  65.879997   7048700.0  65.879997\n2022-06-29  66.000000  63.279999  65.730003  63.689999   6908200.0  63.689999\n2022-06-30  63.759998  61.759998  62.549999  63.669998   8701900.0  63.669998\n2022-07-01  64.540001  62.209999  63.490002  63.540001   6849000.0  63.540001\n\n[883 rows x 6 columns]",
      "text/html": "<div>\n<style scoped>\n    .dataframe tbody tr th:only-of-type {\n        vertical-align: middle;\n    }\n\n    .dataframe tbody tr th {\n        vertical-align: top;\n    }\n\n    .dataframe thead th {\n        text-align: right;\n    }\n</style>\n<table border=\"1\" class=\"dataframe\">\n  <thead>\n    <tr style=\"text-align: right;\">\n      <th></th>\n      <th>High</th>\n      <th>Low</th>\n      <th>Open</th>\n      <th>Close</th>\n      <th>Volume</th>\n      <th>Adj Close</th>\n    </tr>\n    <tr>\n      <th>Date</th>\n      <th></th>\n      <th></th>\n      <th></th>\n      <th></th>\n      <th></th>\n      <th></th>\n    </tr>\n  </thead>\n  <tbody>\n    <tr>\n      <th>2018-12-31</th>\n      <td>58.615383</td>\n      <td>56.538464</td>\n      <td>57.846153</td>\n      <td>58.230770</td>\n      <td>14086995.0</td>\n      <td>57.403370</td>\n    </tr>\n    <tr>\n      <th>2019-01-02</th>\n      <td>62.923077</td>\n      <td>57.000000</td>\n      <td>57.384617</td>\n      <td>61.923077</td>\n      <td>16816033.0</td>\n      <td>61.043213</td>\n    </tr>\n    <tr>\n      <th>2019-01-03</th>\n      <td>63.076923</td>\n      <td>59.846153</td>\n      <td>61.692307</td>\n      <td>62.000000</td>\n      <td>15983370.0</td>\n      <td>61.119045</td>\n    </tr>\n    <tr>\n      <th>2019-01-04</th>\n      <td>63.538464</td>\n      <td>61.384617</td>\n      <td>63.000000</td>\n      <td>63.307693</td>\n      <td>15610894.0</td>\n      <td>62.408161</td>\n    </tr>\n    <tr>\n      <th>2019-01-07</th>\n      <td>67.615387</td>\n      <td>63.769230</td>\n      <td>65.769234</td>\n      <td>67.230766</td>\n      <td>23358972.0</td>\n      <td>66.275475</td>\n    </tr>\n    <tr>\n      <th>...</th>\n      <td>...</td>\n      <td>...</td>\n      <td>...</td>\n      <td>...</td>\n      <td>...</td>\n      <td>...</td>\n    </tr>\n    <tr>\n      <th>2022-06-27</th>\n      <td>67.900002</td>\n      <td>66.139999</td>\n      <td>67.470001</td>\n      <td>66.709999</td>\n      <td>6798300.0</td>\n      <td>66.709999</td>\n    </tr>\n    <tr>\n      <th>2022-06-28</th>\n      <td>68.449997</td>\n      <td>65.360001</td>\n      <td>67.449997</td>\n      <td>65.879997</td>\n      <td>7048700.0</td>\n      <td>65.879997</td>\n    </tr>\n    <tr>\n      <th>2022-06-29</th>\n      <td>66.000000</td>\n      <td>63.279999</td>\n      <td>65.730003</td>\n      <td>63.689999</td>\n      <td>6908200.0</td>\n      <td>63.689999</td>\n    </tr>\n    <tr>\n      <th>2022-06-30</th>\n      <td>63.759998</td>\n      <td>61.759998</td>\n      <td>62.549999</td>\n      <td>63.669998</td>\n      <td>8701900.0</td>\n      <td>63.669998</td>\n    </tr>\n    <tr>\n      <th>2022-07-01</th>\n      <td>64.540001</td>\n      <td>62.209999</td>\n      <td>63.490002</td>\n      <td>63.540001</td>\n      <td>6849000.0</td>\n      <td>63.540001</td>\n    </tr>\n  </tbody>\n</table>\n<p>883 rows × 6 columns</p>\n</div>"
     },
     "execution_count": 8,
     "metadata": {},
     "output_type": "execute_result"
    }
   ],
   "source": [
    "# %%\n",
    "import datetime\n",
    "\n",
    "import pandas_datareader as web\n",
    "import plotly.graph_objects as go\n",
    "from plotly.subplots import make_subplots\n",
    "\n",
    "symbol = \"TSLA\"\n",
    "channel_dr = \"yahoo\"\n",
    "start_date = \"2019-01-01\"\n",
    "end_date = datetime.date.today()\n",
    "\n",
    "stock_df = web.DataReader(\"GE\", \"yahoo\", start=start_date, end=end_date)\n",
    "\n",
    "stock_df"
   ],
   "metadata": {
    "collapsed": false,
    "pycharm": {
     "name": "#%%\n"
    }
   }
  },
  {
   "cell_type": "code",
   "execution_count": 23,
   "outputs": [
    {
     "ename": "NameError",
     "evalue": "name 'make_subplots' is not defined",
     "output_type": "error",
     "traceback": [
      "\u001B[1;31m---------------------------------------------------------------------------\u001B[0m",
      "\u001B[1;31mNameError\u001B[0m                                 Traceback (most recent call last)",
      "Input \u001B[1;32mIn [23]\u001B[0m, in \u001B[0;36m<cell line: 2>\u001B[1;34m()\u001B[0m\n\u001B[0;32m      1\u001B[0m \u001B[38;5;66;03m# %%\u001B[39;00m\n\u001B[1;32m----> 2\u001B[0m figure \u001B[38;5;241m=\u001B[39m \u001B[43mmake_subplots\u001B[49m(specs\u001B[38;5;241m=\u001B[39m[[{\u001B[38;5;124m\"\u001B[39m\u001B[38;5;124msecondary_y\u001B[39m\u001B[38;5;124m\"\u001B[39m: \u001B[38;5;28;01mTrue\u001B[39;00m}]])\n\u001B[0;32m      4\u001B[0m figure\u001B[38;5;241m.\u001B[39madd_trace(go\u001B[38;5;241m.\u001B[39mCandlestick(\n\u001B[0;32m      5\u001B[0m     x\u001B[38;5;241m=\u001B[39mstock_df\u001B[38;5;241m.\u001B[39mindex,\n\u001B[0;32m      6\u001B[0m     low\u001B[38;5;241m=\u001B[39mstock_df[\u001B[38;5;124m\"\u001B[39m\u001B[38;5;124mLow\u001B[39m\u001B[38;5;124m\"\u001B[39m],\n\u001B[0;32m      7\u001B[0m     high\u001B[38;5;241m=\u001B[39mstock_df[\u001B[38;5;124m\"\u001B[39m\u001B[38;5;124mHigh\u001B[39m\u001B[38;5;124m\"\u001B[39m],\n\u001B[0;32m      8\u001B[0m     close\u001B[38;5;241m=\u001B[39mstock_df[\u001B[38;5;124m\"\u001B[39m\u001B[38;5;124mClose\u001B[39m\u001B[38;5;124m\"\u001B[39m]),\n\u001B[0;32m      9\u001B[0m     secondary_y\u001B[38;5;241m=\u001B[39m\u001B[38;5;28;01mTrue\u001B[39;00m)\n\u001B[0;32m     11\u001B[0m figure\u001B[38;5;241m.\u001B[39madd_trace(go\u001B[38;5;241m.\u001B[39mBar(x\u001B[38;5;241m=\u001B[39mstock_df\u001B[38;5;241m.\u001B[39mindex, y\u001B[38;5;241m=\u001B[39mstock_df[\u001B[38;5;124m\"\u001B[39m\u001B[38;5;124mVolume\u001B[39m\u001B[38;5;124m\"\u001B[39m]),\n\u001B[0;32m     12\u001B[0m                  secondary_y\u001B[38;5;241m=\u001B[39m\u001B[38;5;28;01mFalse\u001B[39;00m)\n",
      "\u001B[1;31mNameError\u001B[0m: name 'make_subplots' is not defined"
     ]
    }
   ],
   "source": [
    "# %%\n",
    "figure = make_subplots(specs=[[{\"secondary_y\": True}]])\n",
    "\n",
    "figure.add_trace(go.Candlestick(\n",
    "    x=stock_df.index,\n",
    "    low=stock_df[\"Low\"],\n",
    "    high=stock_df[\"High\"],\n",
    "    close=stock_df[\"Close\"]),\n",
    "    secondary_y=True)\n",
    "\n",
    "figure.add_trace(go.Bar(x=stock_df.index, y=stock_df[\"Volume\"]),\n",
    "                 secondary_y=False)\n",
    "\n",
    "figure.update_layout(\n",
    "    title=\"TSLA\",\n",
    "    yaxis_title=\"TSLA Volume/Price\",\n",
    "    xaxis_title=\"Date\"\n",
    ")\n",
    "\n"
   ],
   "metadata": {
    "collapsed": false,
    "pycharm": {
     "name": "#%%\n"
    }
   }
  },
  {
   "cell_type": "code",
   "execution_count": 24,
   "outputs": [],
   "source": [
    "%reset -f"
   ],
   "metadata": {
    "collapsed": false,
    "pycharm": {
     "name": "#%%\n"
    }
   }
  }
 ],
 "metadata": {
  "kernelspec": {
   "display_name": "Python 3",
   "language": "python",
   "name": "python3"
  },
  "language_info": {
   "codemirror_mode": {
    "name": "ipython",
    "version": 2
   },
   "file_extension": ".py",
   "mimetype": "text/x-python",
   "name": "python",
   "nbconvert_exporter": "python",
   "pygments_lexer": "ipython2",
   "version": "2.7.6"
  }
 },
 "nbformat": 4,
 "nbformat_minor": 0
}