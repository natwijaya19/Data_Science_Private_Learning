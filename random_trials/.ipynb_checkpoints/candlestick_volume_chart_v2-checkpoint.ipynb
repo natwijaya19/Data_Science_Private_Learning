{
 "cells": [
  {
   "cell_type": "code",
   "execution_count": null,
   "metadata": {
    "pycharm": {
     "name": "#%%\n"
    }
   },
   "outputs": [],
   "source": [
    "import os\n",
    "import pathlib\n",
    "import pandas as pd\n",
    "\n",
    "cwd = os.getcwd()\n",
    "file_path = pathlib.Path(cwd, '..', 'data', 'AAPL.CSV')\n",
    "\n",
    "aapl_df = pd.read_csv(file_path, index_col=0, parse_dates=True)\n",
    "aapl_df\n"
   ]
  },
  {
   "cell_type": "code",
   "execution_count": null,
   "metadata": {
    "pycharm": {
     "name": "#%%\n"
    }
   },
   "outputs": [],
   "source": [
    "dt_range = pd.date_range(start=\"2020-03-01\", end=\"2020-03-31\")\n",
    "aapl_df = aapl_df[aapl_df.index.isin(dt_range)]\n",
    "aapl_df.head()"
   ]
  },
  {
   "cell_type": "markdown",
   "metadata": {
    "pycharm": {
     "name": "#%% md\n"
    }
   },
   "source": [
    "mplfinance"
   ]
  },
  {
   "cell_type": "code",
   "execution_count": null,
   "metadata": {
    "pycharm": {
     "name": "#%%\n"
    }
   },
   "outputs": [],
   "source": [
    "import mplfinance as fplt\n",
    "fplt.plot(\n",
    "    aapl_df,\n",
    "    type='candle',\n",
    "    title='Apple, March-2020',\n",
    "    ylabel='Price($)'\n",
    ")"
   ]
  },
  {
   "cell_type": "code",
   "execution_count": null,
   "metadata": {
    "pycharm": {
     "name": "#%%\n"
    }
   },
   "outputs": [],
   "source": [
    "fplt.available_styles()"
   ]
  },
  {
   "cell_type": "code",
   "execution_count": null,
   "metadata": {
    "pycharm": {
     "name": "#%%\n"
    }
   },
   "outputs": [],
   "source": [
    "import mplfinance as fplt\n",
    "\n",
    "fplt.plot(\n",
    "    aapl_df,\n",
    "    type='candle',\n",
    "    style=\"classic\",\n",
    "    title='Apple, March-2020',\n",
    "    ylabel='Price($)'\n",
    ")"
   ]
  },
  {
   "cell_type": "code",
   "execution_count": null,
   "metadata": {
    "pycharm": {
     "name": "#%%\n"
    }
   },
   "outputs": [],
   "source": [
    "import mplfinance as fplt\n",
    "fplt.plot(\n",
    "    aapl_df,\n",
    "    type='candle',\n",
    "    style='charles',\n",
    "    title='Apple, March-2020',\n",
    "    ylabel='Price($)'\n",
    ")"
   ]
  },
  {
   "cell_type": "code",
   "execution_count": null,
   "metadata": {
    "pycharm": {
     "name": "#%%\n"
    }
   },
   "outputs": [],
   "source": [
    "import mplfinance as fplt\n",
    "fplt.plot(\n",
    "    aapl_df,\n",
    "    type='candle',\n",
    "    style='mike',\n",
    "    title='Apple, March-2020',\n",
    "    ylabel='Price($)'\n",
    ")"
   ]
  },
  {
   "cell_type": "markdown",
   "metadata": {
    "pycharm": {
     "name": "#%% md\n"
    }
   },
   "source": [
    "Candlestick with volume"
   ]
  },
  {
   "cell_type": "code",
   "execution_count": null,
   "metadata": {
    "pycharm": {
     "name": "#%%\n"
    }
   },
   "outputs": [],
   "source": [
    "import mplfinance as fplt\n",
    "fplt.plot(\n",
    "    aapl_df,\n",
    "    type='candle',\n",
    "    style='charles',\n",
    "    title='Apple, March-2020',\n",
    "    ylabel='Price($)',\n",
    "    volume = True,\n",
    "    ylabel_lower = 'Shares\\nTraded'\n",
    ")"
   ]
  },
  {
   "cell_type": "markdown",
   "metadata": {
    "pycharm": {
     "name": "#%% md\n"
    }
   },
   "source": [
    "SHow non-trading days"
   ]
  },
  {
   "cell_type": "code",
   "execution_count": null,
   "metadata": {
    "pycharm": {
     "name": "#%%\n"
    }
   },
   "outputs": [],
   "source": [
    "import mplfinance as fplt\n",
    "fplt.plot(\n",
    "    aapl_df,\n",
    "    type='candle',\n",
    "    style='charles',\n",
    "    title='Apple, March-2020',\n",
    "    ylabel='Price($)',\n",
    "    volume = True,\n",
    "    ylabel_lower = 'Shares\\nTraded',\n",
    "    show_nontrading = True\n",
    ")"
   ]
  },
  {
   "cell_type": "markdown",
   "metadata": {
    "pycharm": {
     "name": "#%% md\n"
    }
   },
   "source": [
    "Cufflinks"
   ]
  },
  {
   "cell_type": "code",
   "execution_count": null,
   "metadata": {
    "pycharm": {
     "name": "#%%\n"
    }
   },
   "outputs": [],
   "source": [
    "import cufflinks as cf\n",
    "import os\n",
    "import pathlib\n",
    "import pandas as pd\n",
    "\n",
    "cwd = os.getcwd()\n",
    "file_path = pathlib.Path(cwd, '..', 'data', 'AAPL.CSV')\n",
    "\n",
    "aapl_df = pd.read_csv(file_path, index_col=0, parse_dates=True)\n",
    "aapl_df"
   ]
  },
  {
   "cell_type": "code",
   "execution_count": null,
   "metadata": {
    "pycharm": {
     "is_executing": true,
     "name": "#%%\n"
    }
   },
   "outputs": [],
   "source": [
    "qf = cf.QuantFig(aapl_df, title=\"Apple Quant Figure\", legend='top', name='GS')\n",
    "qf.add_bollinger_bands()\n",
    "qf.add_volume()\n",
    "qf.iplot()"
   ]
  },
  {
   "cell_type": "code",
   "execution_count": null,
   "metadata": {
    "pycharm": {
     "name": "#%%\n"
    }
   },
   "outputs": [],
   "source": [
    "\n"
   ]
  },
  {
   "cell_type": "code",
   "execution_count": null,
   "metadata": {
    "pycharm": {
     "name": "#%%\n"
    }
   },
   "outputs": [],
   "source": []
  },
  {
   "cell_type": "code",
   "execution_count": null,
   "metadata": {
    "pycharm": {
     "name": "#%%\n"
    }
   },
   "outputs": [],
   "source": []
  }
 ],
 "metadata": {
  "kernelspec": {
   "display_name": "Python 3 (ipykernel)",
   "language": "python",
   "name": "python3"
  },
  "language_info": {
   "codemirror_mode": {
    "name": "ipython",
    "version": 2
   },
   "file_extension": ".py",
   "mimetype": "text/x-python",
   "name": "python",
   "nbconvert_exporter": "python",
   "pygments_lexer": "ipython2",
   "version": "2.7.6"
  }
 },
 "nbformat": 4,
 "nbformat_minor": 1
}
