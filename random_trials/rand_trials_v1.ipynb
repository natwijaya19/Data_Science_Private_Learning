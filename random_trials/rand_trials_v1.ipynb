{
 "cells": [
  {
   "cell_type": "code",
   "execution_count": 2,
   "metadata": {
    "collapsed": true,
    "pycharm": {
     "name": "#%%\n"
    }
   },
   "outputs": [
    {
     "name": "stdout",
     "output_type": "stream",
     "text": [
      "[[ 52 191  35 149]\n",
      " [ 49  66  68  33]\n",
      " [ 77  57  93 150]\n",
      " [144  81 163 133]\n",
      " [ 93  72 176  45]\n",
      " [ 29 104  68  81]\n",
      " [157 152   9  97]\n",
      " [143 184 123 158]\n",
      " [187  84  96  11]\n",
      " [189  62  27  99]]\n",
      "   col1  col2  col3  col4\n",
      "0    52   191    35   149\n",
      "1    49    66    68    33\n",
      "2    77    57    93   150\n",
      "3   144    81   163   133\n",
      "4    93    72   176    45\n",
      "5    29   104    68    81\n",
      "6   157   152     9    97\n",
      "7   143   184   123   158\n",
      "8   187    84    96    11\n",
      "9   189    62    27    99\n",
      "   col1  col2  col3  col4\n",
      "0    52   191    35   149\n",
      "1    49    66    68    33\n",
      "2    77    57    93   150\n",
      "3   144    81   163   133\n",
      "4    93    72   176    45\n",
      "5    29   104    68    81\n",
      "6   157   152     9    97\n",
      "7   143   184   123   158\n",
      "8   187    84    96    11\n",
      "9   189    62    27    99\n"
     ]
    }
   ],
   "source": [
    "import pandas as pd\n",
    "import numpy as np\n",
    "from matplotlib import pyplot as plt\n",
    "\n",
    "rand_data= np.random.randint(low=-5,high=200, size=(10,4))\n",
    "rand_df = pd.DataFrame(rand_data, columns=['col1', 'col2', 'col3', 'col4'])\n",
    "print(rand_data)\n",
    "print(rand_df)\n",
    "print(rand_df)\n",
    "\n"
   ]
  },
  {
   "cell_type": "code",
   "execution_count": 3,
   "outputs": [
    {
     "data": {
      "text/plain": "   col1  col2  col3  col4\n0    52   191    35   149\n1    49    66    68    33\n2    77    57    93   150\n3   144    81   163   133\n4    93    72   176    45\n5    29   104    68    81\n6   157   152     9    97\n7   143   184   123   158\n8   187    84    96    11\n9   189    62    27    99",
      "text/html": "<div>\n<style scoped>\n    .dataframe tbody tr th:only-of-type {\n        vertical-align: middle;\n    }\n\n    .dataframe tbody tr th {\n        vertical-align: top;\n    }\n\n    .dataframe thead th {\n        text-align: right;\n    }\n</style>\n<table border=\"1\" class=\"dataframe\">\n  <thead>\n    <tr style=\"text-align: right;\">\n      <th></th>\n      <th>col1</th>\n      <th>col2</th>\n      <th>col3</th>\n      <th>col4</th>\n    </tr>\n  </thead>\n  <tbody>\n    <tr>\n      <th>0</th>\n      <td>52</td>\n      <td>191</td>\n      <td>35</td>\n      <td>149</td>\n    </tr>\n    <tr>\n      <th>1</th>\n      <td>49</td>\n      <td>66</td>\n      <td>68</td>\n      <td>33</td>\n    </tr>\n    <tr>\n      <th>2</th>\n      <td>77</td>\n      <td>57</td>\n      <td>93</td>\n      <td>150</td>\n    </tr>\n    <tr>\n      <th>3</th>\n      <td>144</td>\n      <td>81</td>\n      <td>163</td>\n      <td>133</td>\n    </tr>\n    <tr>\n      <th>4</th>\n      <td>93</td>\n      <td>72</td>\n      <td>176</td>\n      <td>45</td>\n    </tr>\n    <tr>\n      <th>5</th>\n      <td>29</td>\n      <td>104</td>\n      <td>68</td>\n      <td>81</td>\n    </tr>\n    <tr>\n      <th>6</th>\n      <td>157</td>\n      <td>152</td>\n      <td>9</td>\n      <td>97</td>\n    </tr>\n    <tr>\n      <th>7</th>\n      <td>143</td>\n      <td>184</td>\n      <td>123</td>\n      <td>158</td>\n    </tr>\n    <tr>\n      <th>8</th>\n      <td>187</td>\n      <td>84</td>\n      <td>96</td>\n      <td>11</td>\n    </tr>\n    <tr>\n      <th>9</th>\n      <td>189</td>\n      <td>62</td>\n      <td>27</td>\n      <td>99</td>\n    </tr>\n  </tbody>\n</table>\n</div>"
     },
     "execution_count": 3,
     "metadata": {},
     "output_type": "execute_result"
    }
   ],
   "source": [
    "rand_df"
   ],
   "metadata": {
    "collapsed": false,
    "pycharm": {
     "name": "#%%\n"
    }
   }
  },
  {
   "cell_type": "code",
   "execution_count": 4,
   "outputs": [
    {
     "data": {
      "text/plain": "5     29\n6    157\n7    143\n8    187\n9    189\nName: col1, dtype: int32"
     },
     "execution_count": 4,
     "metadata": {},
     "output_type": "execute_result"
    }
   ],
   "source": [
    "rand_df.col1[5:]"
   ],
   "metadata": {
    "collapsed": false,
    "pycharm": {
     "name": "#%%\n"
    }
   }
  },
  {
   "cell_type": "code",
   "execution_count": 7,
   "outputs": [
    {
     "data": {
      "text/plain": "       col1      col2       col3      col4\n0       NaN       NaN        NaN       NaN\n1 -0.057692 -0.654450   0.942857 -0.778523\n2  0.571429 -0.136364   0.367647  3.545455\n3  0.870130  0.421053   0.752688 -0.113333\n4 -0.354167 -0.111111   0.079755 -0.661654\n5 -0.688172  0.444444  -0.613636  0.800000\n6  4.413793  0.461538  -0.867647  0.197531\n7 -0.089172  0.210526  12.666667  0.628866\n8  0.307692 -0.543478  -0.219512 -0.930380\n9  0.010695 -0.261905  -0.718750  8.000000",
      "text/html": "<div>\n<style scoped>\n    .dataframe tbody tr th:only-of-type {\n        vertical-align: middle;\n    }\n\n    .dataframe tbody tr th {\n        vertical-align: top;\n    }\n\n    .dataframe thead th {\n        text-align: right;\n    }\n</style>\n<table border=\"1\" class=\"dataframe\">\n  <thead>\n    <tr style=\"text-align: right;\">\n      <th></th>\n      <th>col1</th>\n      <th>col2</th>\n      <th>col3</th>\n      <th>col4</th>\n    </tr>\n  </thead>\n  <tbody>\n    <tr>\n      <th>0</th>\n      <td>NaN</td>\n      <td>NaN</td>\n      <td>NaN</td>\n      <td>NaN</td>\n    </tr>\n    <tr>\n      <th>1</th>\n      <td>-0.057692</td>\n      <td>-0.654450</td>\n      <td>0.942857</td>\n      <td>-0.778523</td>\n    </tr>\n    <tr>\n      <th>2</th>\n      <td>0.571429</td>\n      <td>-0.136364</td>\n      <td>0.367647</td>\n      <td>3.545455</td>\n    </tr>\n    <tr>\n      <th>3</th>\n      <td>0.870130</td>\n      <td>0.421053</td>\n      <td>0.752688</td>\n      <td>-0.113333</td>\n    </tr>\n    <tr>\n      <th>4</th>\n      <td>-0.354167</td>\n      <td>-0.111111</td>\n      <td>0.079755</td>\n      <td>-0.661654</td>\n    </tr>\n    <tr>\n      <th>5</th>\n      <td>-0.688172</td>\n      <td>0.444444</td>\n      <td>-0.613636</td>\n      <td>0.800000</td>\n    </tr>\n    <tr>\n      <th>6</th>\n      <td>4.413793</td>\n      <td>0.461538</td>\n      <td>-0.867647</td>\n      <td>0.197531</td>\n    </tr>\n    <tr>\n      <th>7</th>\n      <td>-0.089172</td>\n      <td>0.210526</td>\n      <td>12.666667</td>\n      <td>0.628866</td>\n    </tr>\n    <tr>\n      <th>8</th>\n      <td>0.307692</td>\n      <td>-0.543478</td>\n      <td>-0.219512</td>\n      <td>-0.930380</td>\n    </tr>\n    <tr>\n      <th>9</th>\n      <td>0.010695</td>\n      <td>-0.261905</td>\n      <td>-0.718750</td>\n      <td>8.000000</td>\n    </tr>\n  </tbody>\n</table>\n</div>"
     },
     "execution_count": 7,
     "metadata": {},
     "output_type": "execute_result"
    }
   ],
   "source": [
    "rand_df/rand_df.shift(1)-1\n"
   ],
   "metadata": {
    "collapsed": false,
    "pycharm": {
     "name": "#%%\n"
    }
   }
  },
  {
   "cell_type": "code",
   "execution_count": 23,
   "outputs": [
    {
     "data": {
      "text/plain": "     PassengerId  Survived  Pclass  \\\n0              1         0       3   \n1              2         1       1   \n2              3         1       3   \n3              4         1       1   \n4              5         0       3   \n..           ...       ...     ...   \n886          887         0       2   \n887          888         1       1   \n888          889         0       3   \n889          890         1       1   \n890          891         0       3   \n\n                                                  Name     Sex   Age  SibSp  \\\n0                              Braund, Mr. Owen Harris    male  22.0      1   \n1    Cumings, Mrs. John Bradley (Florence Briggs Th...  female  38.0      1   \n2                               Heikkinen, Miss. Laina  female  26.0      0   \n3         Futrelle, Mrs. Jacques Heath (Lily May Peel)  female  35.0      1   \n4                             Allen, Mr. William Henry    male  35.0      0   \n..                                                 ...     ...   ...    ...   \n886                              Montvila, Rev. Juozas    male  27.0      0   \n887                       Graham, Miss. Margaret Edith  female  19.0      0   \n888           Johnston, Miss. Catherine Helen \"Carrie\"  female   NaN      1   \n889                              Behr, Mr. Karl Howell    male  26.0      0   \n890                                Dooley, Mr. Patrick    male  32.0      0   \n\n     Parch            Ticket     Fare Cabin Embarked  \n0        0         A/5 21171   7.2500   NaN        S  \n1        0          PC 17599  71.2833   C85        C  \n2        0  STON/O2. 3101282   7.9250   NaN        S  \n3        0            113803  53.1000  C123        S  \n4        0            373450   8.0500   NaN        S  \n..     ...               ...      ...   ...      ...  \n886      0            211536  13.0000   NaN        S  \n887      0            112053  30.0000   B42        S  \n888      2        W./C. 6607  23.4500   NaN        S  \n889      0            111369  30.0000  C148        C  \n890      0            370376   7.7500   NaN        Q  \n\n[891 rows x 12 columns]",
      "text/html": "<div>\n<style scoped>\n    .dataframe tbody tr th:only-of-type {\n        vertical-align: middle;\n    }\n\n    .dataframe tbody tr th {\n        vertical-align: top;\n    }\n\n    .dataframe thead th {\n        text-align: right;\n    }\n</style>\n<table border=\"1\" class=\"dataframe\">\n  <thead>\n    <tr style=\"text-align: right;\">\n      <th></th>\n      <th>PassengerId</th>\n      <th>Survived</th>\n      <th>Pclass</th>\n      <th>Name</th>\n      <th>Sex</th>\n      <th>Age</th>\n      <th>SibSp</th>\n      <th>Parch</th>\n      <th>Ticket</th>\n      <th>Fare</th>\n      <th>Cabin</th>\n      <th>Embarked</th>\n    </tr>\n  </thead>\n  <tbody>\n    <tr>\n      <th>0</th>\n      <td>1</td>\n      <td>0</td>\n      <td>3</td>\n      <td>Braund, Mr. Owen Harris</td>\n      <td>male</td>\n      <td>22.0</td>\n      <td>1</td>\n      <td>0</td>\n      <td>A/5 21171</td>\n      <td>7.2500</td>\n      <td>NaN</td>\n      <td>S</td>\n    </tr>\n    <tr>\n      <th>1</th>\n      <td>2</td>\n      <td>1</td>\n      <td>1</td>\n      <td>Cumings, Mrs. John Bradley (Florence Briggs Th...</td>\n      <td>female</td>\n      <td>38.0</td>\n      <td>1</td>\n      <td>0</td>\n      <td>PC 17599</td>\n      <td>71.2833</td>\n      <td>C85</td>\n      <td>C</td>\n    </tr>\n    <tr>\n      <th>2</th>\n      <td>3</td>\n      <td>1</td>\n      <td>3</td>\n      <td>Heikkinen, Miss. Laina</td>\n      <td>female</td>\n      <td>26.0</td>\n      <td>0</td>\n      <td>0</td>\n      <td>STON/O2. 3101282</td>\n      <td>7.9250</td>\n      <td>NaN</td>\n      <td>S</td>\n    </tr>\n    <tr>\n      <th>3</th>\n      <td>4</td>\n      <td>1</td>\n      <td>1</td>\n      <td>Futrelle, Mrs. Jacques Heath (Lily May Peel)</td>\n      <td>female</td>\n      <td>35.0</td>\n      <td>1</td>\n      <td>0</td>\n      <td>113803</td>\n      <td>53.1000</td>\n      <td>C123</td>\n      <td>S</td>\n    </tr>\n    <tr>\n      <th>4</th>\n      <td>5</td>\n      <td>0</td>\n      <td>3</td>\n      <td>Allen, Mr. William Henry</td>\n      <td>male</td>\n      <td>35.0</td>\n      <td>0</td>\n      <td>0</td>\n      <td>373450</td>\n      <td>8.0500</td>\n      <td>NaN</td>\n      <td>S</td>\n    </tr>\n    <tr>\n      <th>...</th>\n      <td>...</td>\n      <td>...</td>\n      <td>...</td>\n      <td>...</td>\n      <td>...</td>\n      <td>...</td>\n      <td>...</td>\n      <td>...</td>\n      <td>...</td>\n      <td>...</td>\n      <td>...</td>\n      <td>...</td>\n    </tr>\n    <tr>\n      <th>886</th>\n      <td>887</td>\n      <td>0</td>\n      <td>2</td>\n      <td>Montvila, Rev. Juozas</td>\n      <td>male</td>\n      <td>27.0</td>\n      <td>0</td>\n      <td>0</td>\n      <td>211536</td>\n      <td>13.0000</td>\n      <td>NaN</td>\n      <td>S</td>\n    </tr>\n    <tr>\n      <th>887</th>\n      <td>888</td>\n      <td>1</td>\n      <td>1</td>\n      <td>Graham, Miss. Margaret Edith</td>\n      <td>female</td>\n      <td>19.0</td>\n      <td>0</td>\n      <td>0</td>\n      <td>112053</td>\n      <td>30.0000</td>\n      <td>B42</td>\n      <td>S</td>\n    </tr>\n    <tr>\n      <th>888</th>\n      <td>889</td>\n      <td>0</td>\n      <td>3</td>\n      <td>Johnston, Miss. Catherine Helen \"Carrie\"</td>\n      <td>female</td>\n      <td>NaN</td>\n      <td>1</td>\n      <td>2</td>\n      <td>W./C. 6607</td>\n      <td>23.4500</td>\n      <td>NaN</td>\n      <td>S</td>\n    </tr>\n    <tr>\n      <th>889</th>\n      <td>890</td>\n      <td>1</td>\n      <td>1</td>\n      <td>Behr, Mr. Karl Howell</td>\n      <td>male</td>\n      <td>26.0</td>\n      <td>0</td>\n      <td>0</td>\n      <td>111369</td>\n      <td>30.0000</td>\n      <td>C148</td>\n      <td>C</td>\n    </tr>\n    <tr>\n      <th>890</th>\n      <td>891</td>\n      <td>0</td>\n      <td>3</td>\n      <td>Dooley, Mr. Patrick</td>\n      <td>male</td>\n      <td>32.0</td>\n      <td>0</td>\n      <td>0</td>\n      <td>370376</td>\n      <td>7.7500</td>\n      <td>NaN</td>\n      <td>Q</td>\n    </tr>\n  </tbody>\n</table>\n<p>891 rows × 12 columns</p>\n</div>"
     },
     "execution_count": 23,
     "metadata": {},
     "output_type": "execute_result"
    }
   ],
   "source": [
    "import pathlib\n",
    "TITANIC_DATAFILE = pathlib.Path(\"..\",\"data\", \"titanic.csv\")\n",
    "pd.read_csv(TITANIC_DATAFILE)"
   ],
   "metadata": {
    "collapsed": false,
    "pycharm": {
     "name": "#%%\n"
    }
   }
  },
  {
   "cell_type": "code",
   "execution_count": 26,
   "outputs": [],
   "source": [],
   "metadata": {
    "collapsed": false,
    "pycharm": {
     "name": "#%%\n"
    }
   }
  },
  {
   "cell_type": "code",
   "execution_count": null,
   "outputs": [],
   "source": [],
   "metadata": {
    "collapsed": false,
    "pycharm": {
     "name": "#%%\n"
    }
   }
  }
 ],
 "metadata": {
  "kernelspec": {
   "display_name": "Python 3",
   "language": "python",
   "name": "python3"
  },
  "language_info": {
   "codemirror_mode": {
    "name": "ipython",
    "version": 2
   },
   "file_extension": ".py",
   "mimetype": "text/x-python",
   "name": "python",
   "nbconvert_exporter": "python",
   "pygments_lexer": "ipython2",
   "version": "2.7.6"
  }
 },
 "nbformat": 4,
 "nbformat_minor": 0
}