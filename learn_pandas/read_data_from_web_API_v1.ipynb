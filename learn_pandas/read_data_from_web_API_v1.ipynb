{
 "cells": [
  {
   "cell_type": "code",
   "execution_count": 1,
   "metadata": {
    "collapsed": true,
    "pycharm": {
     "name": "#%%\n"
    }
   },
   "outputs": [],
   "source": [
    "import datetime as dt\n",
    "import pandas as pd\n",
    "import requests\n"
   ]
  },
  {
   "cell_type": "code",
   "execution_count": 3,
   "outputs": [],
   "source": [
    "yesterday = dt.date.today() - dt.timedelta(days=1)\n",
    "api = 'https://earthquake.usgs.gov/fdsnws/event/1/query'\n",
    "payload = {\n",
    "    'format': 'geojson',\n",
    "    'starttime': yesterday-dt.timedelta(days=3),\n",
    "    'endtime': yesterday\n",
    "}\n",
    "response = requests.get(api, params=payload)"
   ],
   "metadata": {
    "collapsed": false,
    "pycharm": {
     "name": "#%%\n"
    }
   }
  },
  {
   "cell_type": "code",
   "execution_count": 4,
   "outputs": [
    {
     "data": {
      "text/plain": "200"
     },
     "execution_count": 4,
     "metadata": {},
     "output_type": "execute_result"
    }
   ],
   "source": [
    "response.status_code"
   ],
   "metadata": {
    "collapsed": false,
    "pycharm": {
     "name": "#%%\n"
    }
   }
  },
  {
   "cell_type": "code",
   "execution_count": 7,
   "outputs": [
    {
     "data": {
      "text/plain": "dict_keys(['type', 'metadata', 'features', 'bbox'])"
     },
     "execution_count": 7,
     "metadata": {},
     "output_type": "execute_result"
    }
   ],
   "source": [
    "earthquake_json = response.json()\n",
    "earthquake_json.keys()"
   ],
   "metadata": {
    "collapsed": false,
    "pycharm": {
     "name": "#%%\n"
    }
   }
  },
  {
   "cell_type": "code",
   "execution_count": 8,
   "outputs": [
    {
     "data": {
      "text/plain": "{'generated': 1656940589000,\n 'url': 'https://earthquake.usgs.gov/fdsnws/event/1/query?format=geojson&starttime=2022-06-30&endtime=2022-07-03',\n 'title': 'USGS Earthquakes',\n 'status': 200,\n 'api': '1.13.6',\n 'count': 796}"
     },
     "execution_count": 8,
     "metadata": {},
     "output_type": "execute_result"
    }
   ],
   "source": [
    "earthquake_json['metadata']"
   ],
   "metadata": {
    "collapsed": false,
    "pycharm": {
     "name": "#%%\n"
    }
   }
  },
  {
   "cell_type": "code",
   "execution_count": 9,
   "outputs": [
    {
     "data": {
      "text/plain": "list"
     },
     "execution_count": 9,
     "metadata": {},
     "output_type": "execute_result"
    }
   ],
   "source": [
    "type(earthquake_json['features'])"
   ],
   "metadata": {
    "collapsed": false,
    "pycharm": {
     "name": "#%%\n"
    }
   }
  },
  {
   "cell_type": "code",
   "execution_count": 10,
   "outputs": [
    {
     "data": {
      "text/plain": "{'type': 'Feature',\n 'properties': {'mag': 1.1,\n  'place': '61 km W of Anchor Point, Alaska',\n  'time': 1656806033977,\n  'updated': 1656806175576,\n  'tz': None,\n  'url': 'https://earthquake.usgs.gov/earthquakes/eventpage/ak0228f1cyed',\n  'detail': 'https://earthquake.usgs.gov/fdsnws/event/1/query?eventid=ak0228f1cyed&format=geojson',\n  'felt': None,\n  'cdi': None,\n  'mmi': None,\n  'alert': None,\n  'status': 'automatic',\n  'tsunami': 0,\n  'sig': 19,\n  'net': 'ak',\n  'code': '0228f1cyed',\n  'ids': ',ak0228f1cyed,',\n  'sources': ',ak,',\n  'types': ',origin,phase-data,',\n  'nst': None,\n  'dmin': None,\n  'rms': 0.35,\n  'gap': None,\n  'magType': 'ml',\n  'type': 'earthquake',\n  'title': 'M 1.1 - 61 km W of Anchor Point, Alaska'},\n 'geometry': {'type': 'Point', 'coordinates': [-152.9076, 59.8693, 100.1]},\n 'id': 'ak0228f1cyed'}"
     },
     "execution_count": 10,
     "metadata": {},
     "output_type": "execute_result"
    }
   ],
   "source": [
    "earthquake_json['features'][0]"
   ],
   "metadata": {
    "collapsed": false,
    "pycharm": {
     "name": "#%%\n"
    }
   }
  },
  {
   "cell_type": "code",
   "execution_count": 12,
   "outputs": [],
   "source": [
    "earthquake_properties_data = [\n",
    "    quake['properties']\n",
    "    for quake in earthquake_json['features']\n",
    "]"
   ],
   "metadata": {
    "collapsed": false,
    "pycharm": {
     "name": "#%%\n"
    }
   }
  },
  {
   "cell_type": "code",
   "execution_count": 14,
   "outputs": [
    {
     "data": {
      "text/plain": "      mag                                              place           time  \\\n0    1.10                    61 km W of Anchor Point, Alaska  1656806033977   \n1    5.30  138 km ESE of Laikit, Laikit II (Dimembe), Ind...  1656805752265   \n2    0.62                         10km NW of The Geysers, CA  1656805646990   \n3    1.70                         3 km SSW of P?hala, Hawaii  1656804989140   \n4    1.78                         4 km WSW of P?hala, Hawaii  1656803481090   \n..    ...                                                ...            ...   \n791  1.19                               4km E of Fremont, CA  1656547697150   \n792  1.84                            25km SSW of Bodfish, CA  1656547417860   \n793  2.18                          11 km SSE of Beaver, Utah  1656547384230   \n794  1.78                             25km SW of Bodfish, CA  1656547307260   \n795  1.30           52 km SE of Denali National Park, Alaska  1656547220897   \n\n           updated    tz                                                url  \\\n0    1656806175576  None  https://earthquake.usgs.gov/earthquakes/eventp...   \n1    1656813967207  None  https://earthquake.usgs.gov/earthquakes/eventp...   \n2    1656806655336  None  https://earthquake.usgs.gov/earthquakes/eventp...   \n3    1656805235360  None  https://earthquake.usgs.gov/earthquakes/eventp...   \n4    1656803670820  None  https://earthquake.usgs.gov/earthquakes/eventp...   \n..             ...   ...                                                ...   \n791  1656558910849  None  https://earthquake.usgs.gov/earthquakes/eventp...   \n792  1656599197394  None  https://earthquake.usgs.gov/earthquakes/eventp...   \n793  1656595417430  None  https://earthquake.usgs.gov/earthquakes/eventp...   \n794  1656611356810  None  https://earthquake.usgs.gov/earthquakes/eventp...   \n795  1656547400020  None  https://earthquake.usgs.gov/earthquakes/eventp...   \n\n                                                detail  felt  cdi  mmi  ...  \\\n0    https://earthquake.usgs.gov/fdsnws/event/1/que...   NaN  NaN  NaN  ...   \n1    https://earthquake.usgs.gov/fdsnws/event/1/que...   1.0  3.7  NaN  ...   \n2    https://earthquake.usgs.gov/fdsnws/event/1/que...   NaN  NaN  NaN  ...   \n3    https://earthquake.usgs.gov/fdsnws/event/1/que...   NaN  NaN  NaN  ...   \n4    https://earthquake.usgs.gov/fdsnws/event/1/que...   NaN  NaN  NaN  ...   \n..                                                 ...   ...  ...  ...  ...   \n791  https://earthquake.usgs.gov/fdsnws/event/1/que...   NaN  NaN  NaN  ...   \n792  https://earthquake.usgs.gov/fdsnws/event/1/que...   NaN  NaN  NaN  ...   \n793  https://earthquake.usgs.gov/fdsnws/event/1/que...   NaN  NaN  NaN  ...   \n794  https://earthquake.usgs.gov/fdsnws/event/1/que...   NaN  NaN  NaN  ...   \n795  https://earthquake.usgs.gov/fdsnws/event/1/que...   NaN  NaN  NaN  ...   \n\n                             ids      sources  \\\n0                 ,ak0228f1cyed,         ,ak,   \n1    ,us6000hzgi,usauto6000hzgi,  ,us,usauto,   \n2                   ,nc73753681,         ,nc,   \n3                   ,hv73063182,         ,hv,   \n4                   ,hv73063162,         ,hv,   \n..                           ...          ...   \n791                 ,nc73752721,         ,nc,   \n792                 ,ci40293952,         ,ci,   \n793                 ,uu60503962,         ,uu,   \n794                 ,ci40293944,         ,ci,   \n795               ,ak0228bc9uzt,         ,ak,   \n\n                                                 types    nst      dmin   rms  \\\n0                                  ,origin,phase-data,    NaN       NaN  0.35   \n1    ,dyfi,internal-moment-tensor,moment-tensor,ori...  116.0  1.264000  0.70   \n2       ,nearby-cities,origin,phase-data,scitech-link,   14.0  0.001292  0.01   \n3                                  ,origin,phase-data,   20.0       NaN  0.16   \n4                                  ,origin,phase-data,   23.0       NaN  0.21   \n..                                                 ...    ...       ...   ...   \n791     ,nearby-cities,origin,phase-data,scitech-link,   20.0  0.006499  0.05   \n792     ,nearby-cities,origin,phase-data,scitech-link,    9.0  0.124000  0.11   \n793                                ,origin,phase-data,   28.0  0.322000  0.20   \n794  ,focal-mechanism,nearby-cities,origin,phase-da...   31.0  0.120400  0.17   \n795                                ,origin,phase-data,    NaN       NaN  1.34   \n\n       gap magType        type  \\\n0      NaN      ml  earthquake   \n1     32.0     mww  earthquake   \n2     87.0      md  earthquake   \n3    202.0      md  earthquake   \n4    141.0      md  earthquake   \n..     ...     ...         ...   \n791   66.0      md  earthquake   \n792   81.0      ml  earthquake   \n793   45.0      ml  earthquake   \n794   39.0      ml  earthquake   \n795    NaN      ml  earthquake   \n\n                                                 title  \n0              M 1.1 - 61 km W of Anchor Point, Alaska  \n1    M 5.3 - 138 km ESE of Laikit, Laikit II (Dimem...  \n2                   M 0.6 - 10km NW of The Geysers, CA  \n3                   M 1.7 - 3 km SSW of P?hala, Hawaii  \n4                   M 1.8 - 4 km WSW of P?hala, Hawaii  \n..                                                 ...  \n791                       M 1.2 - 4km E of Fremont, CA  \n792                    M 1.8 - 25km SSW of Bodfish, CA  \n793                  M 2.2 - 11 km SSE of Beaver, Utah  \n794                     M 1.8 - 25km SW of Bodfish, CA  \n795   M 1.3 - 52 km SE of Denali National Park, Alaska  \n\n[796 rows x 26 columns]",
      "text/html": "<div>\n<style scoped>\n    .dataframe tbody tr th:only-of-type {\n        vertical-align: middle;\n    }\n\n    .dataframe tbody tr th {\n        vertical-align: top;\n    }\n\n    .dataframe thead th {\n        text-align: right;\n    }\n</style>\n<table border=\"1\" class=\"dataframe\">\n  <thead>\n    <tr style=\"text-align: right;\">\n      <th></th>\n      <th>mag</th>\n      <th>place</th>\n      <th>time</th>\n      <th>updated</th>\n      <th>tz</th>\n      <th>url</th>\n      <th>detail</th>\n      <th>felt</th>\n      <th>cdi</th>\n      <th>mmi</th>\n      <th>...</th>\n      <th>ids</th>\n      <th>sources</th>\n      <th>types</th>\n      <th>nst</th>\n      <th>dmin</th>\n      <th>rms</th>\n      <th>gap</th>\n      <th>magType</th>\n      <th>type</th>\n      <th>title</th>\n    </tr>\n  </thead>\n  <tbody>\n    <tr>\n      <th>0</th>\n      <td>1.10</td>\n      <td>61 km W of Anchor Point, Alaska</td>\n      <td>1656806033977</td>\n      <td>1656806175576</td>\n      <td>None</td>\n      <td>https://earthquake.usgs.gov/earthquakes/eventp...</td>\n      <td>https://earthquake.usgs.gov/fdsnws/event/1/que...</td>\n      <td>NaN</td>\n      <td>NaN</td>\n      <td>NaN</td>\n      <td>...</td>\n      <td>,ak0228f1cyed,</td>\n      <td>,ak,</td>\n      <td>,origin,phase-data,</td>\n      <td>NaN</td>\n      <td>NaN</td>\n      <td>0.35</td>\n      <td>NaN</td>\n      <td>ml</td>\n      <td>earthquake</td>\n      <td>M 1.1 - 61 km W of Anchor Point, Alaska</td>\n    </tr>\n    <tr>\n      <th>1</th>\n      <td>5.30</td>\n      <td>138 km ESE of Laikit, Laikit II (Dimembe), Ind...</td>\n      <td>1656805752265</td>\n      <td>1656813967207</td>\n      <td>None</td>\n      <td>https://earthquake.usgs.gov/earthquakes/eventp...</td>\n      <td>https://earthquake.usgs.gov/fdsnws/event/1/que...</td>\n      <td>1.0</td>\n      <td>3.7</td>\n      <td>NaN</td>\n      <td>...</td>\n      <td>,us6000hzgi,usauto6000hzgi,</td>\n      <td>,us,usauto,</td>\n      <td>,dyfi,internal-moment-tensor,moment-tensor,ori...</td>\n      <td>116.0</td>\n      <td>1.264000</td>\n      <td>0.70</td>\n      <td>32.0</td>\n      <td>mww</td>\n      <td>earthquake</td>\n      <td>M 5.3 - 138 km ESE of Laikit, Laikit II (Dimem...</td>\n    </tr>\n    <tr>\n      <th>2</th>\n      <td>0.62</td>\n      <td>10km NW of The Geysers, CA</td>\n      <td>1656805646990</td>\n      <td>1656806655336</td>\n      <td>None</td>\n      <td>https://earthquake.usgs.gov/earthquakes/eventp...</td>\n      <td>https://earthquake.usgs.gov/fdsnws/event/1/que...</td>\n      <td>NaN</td>\n      <td>NaN</td>\n      <td>NaN</td>\n      <td>...</td>\n      <td>,nc73753681,</td>\n      <td>,nc,</td>\n      <td>,nearby-cities,origin,phase-data,scitech-link,</td>\n      <td>14.0</td>\n      <td>0.001292</td>\n      <td>0.01</td>\n      <td>87.0</td>\n      <td>md</td>\n      <td>earthquake</td>\n      <td>M 0.6 - 10km NW of The Geysers, CA</td>\n    </tr>\n    <tr>\n      <th>3</th>\n      <td>1.70</td>\n      <td>3 km SSW of P?hala, Hawaii</td>\n      <td>1656804989140</td>\n      <td>1656805235360</td>\n      <td>None</td>\n      <td>https://earthquake.usgs.gov/earthquakes/eventp...</td>\n      <td>https://earthquake.usgs.gov/fdsnws/event/1/que...</td>\n      <td>NaN</td>\n      <td>NaN</td>\n      <td>NaN</td>\n      <td>...</td>\n      <td>,hv73063182,</td>\n      <td>,hv,</td>\n      <td>,origin,phase-data,</td>\n      <td>20.0</td>\n      <td>NaN</td>\n      <td>0.16</td>\n      <td>202.0</td>\n      <td>md</td>\n      <td>earthquake</td>\n      <td>M 1.7 - 3 km SSW of P?hala, Hawaii</td>\n    </tr>\n    <tr>\n      <th>4</th>\n      <td>1.78</td>\n      <td>4 km WSW of P?hala, Hawaii</td>\n      <td>1656803481090</td>\n      <td>1656803670820</td>\n      <td>None</td>\n      <td>https://earthquake.usgs.gov/earthquakes/eventp...</td>\n      <td>https://earthquake.usgs.gov/fdsnws/event/1/que...</td>\n      <td>NaN</td>\n      <td>NaN</td>\n      <td>NaN</td>\n      <td>...</td>\n      <td>,hv73063162,</td>\n      <td>,hv,</td>\n      <td>,origin,phase-data,</td>\n      <td>23.0</td>\n      <td>NaN</td>\n      <td>0.21</td>\n      <td>141.0</td>\n      <td>md</td>\n      <td>earthquake</td>\n      <td>M 1.8 - 4 km WSW of P?hala, Hawaii</td>\n    </tr>\n    <tr>\n      <th>...</th>\n      <td>...</td>\n      <td>...</td>\n      <td>...</td>\n      <td>...</td>\n      <td>...</td>\n      <td>...</td>\n      <td>...</td>\n      <td>...</td>\n      <td>...</td>\n      <td>...</td>\n      <td>...</td>\n      <td>...</td>\n      <td>...</td>\n      <td>...</td>\n      <td>...</td>\n      <td>...</td>\n      <td>...</td>\n      <td>...</td>\n      <td>...</td>\n      <td>...</td>\n      <td>...</td>\n    </tr>\n    <tr>\n      <th>791</th>\n      <td>1.19</td>\n      <td>4km E of Fremont, CA</td>\n      <td>1656547697150</td>\n      <td>1656558910849</td>\n      <td>None</td>\n      <td>https://earthquake.usgs.gov/earthquakes/eventp...</td>\n      <td>https://earthquake.usgs.gov/fdsnws/event/1/que...</td>\n      <td>NaN</td>\n      <td>NaN</td>\n      <td>NaN</td>\n      <td>...</td>\n      <td>,nc73752721,</td>\n      <td>,nc,</td>\n      <td>,nearby-cities,origin,phase-data,scitech-link,</td>\n      <td>20.0</td>\n      <td>0.006499</td>\n      <td>0.05</td>\n      <td>66.0</td>\n      <td>md</td>\n      <td>earthquake</td>\n      <td>M 1.2 - 4km E of Fremont, CA</td>\n    </tr>\n    <tr>\n      <th>792</th>\n      <td>1.84</td>\n      <td>25km SSW of Bodfish, CA</td>\n      <td>1656547417860</td>\n      <td>1656599197394</td>\n      <td>None</td>\n      <td>https://earthquake.usgs.gov/earthquakes/eventp...</td>\n      <td>https://earthquake.usgs.gov/fdsnws/event/1/que...</td>\n      <td>NaN</td>\n      <td>NaN</td>\n      <td>NaN</td>\n      <td>...</td>\n      <td>,ci40293952,</td>\n      <td>,ci,</td>\n      <td>,nearby-cities,origin,phase-data,scitech-link,</td>\n      <td>9.0</td>\n      <td>0.124000</td>\n      <td>0.11</td>\n      <td>81.0</td>\n      <td>ml</td>\n      <td>earthquake</td>\n      <td>M 1.8 - 25km SSW of Bodfish, CA</td>\n    </tr>\n    <tr>\n      <th>793</th>\n      <td>2.18</td>\n      <td>11 km SSE of Beaver, Utah</td>\n      <td>1656547384230</td>\n      <td>1656595417430</td>\n      <td>None</td>\n      <td>https://earthquake.usgs.gov/earthquakes/eventp...</td>\n      <td>https://earthquake.usgs.gov/fdsnws/event/1/que...</td>\n      <td>NaN</td>\n      <td>NaN</td>\n      <td>NaN</td>\n      <td>...</td>\n      <td>,uu60503962,</td>\n      <td>,uu,</td>\n      <td>,origin,phase-data,</td>\n      <td>28.0</td>\n      <td>0.322000</td>\n      <td>0.20</td>\n      <td>45.0</td>\n      <td>ml</td>\n      <td>earthquake</td>\n      <td>M 2.2 - 11 km SSE of Beaver, Utah</td>\n    </tr>\n    <tr>\n      <th>794</th>\n      <td>1.78</td>\n      <td>25km SW of Bodfish, CA</td>\n      <td>1656547307260</td>\n      <td>1656611356810</td>\n      <td>None</td>\n      <td>https://earthquake.usgs.gov/earthquakes/eventp...</td>\n      <td>https://earthquake.usgs.gov/fdsnws/event/1/que...</td>\n      <td>NaN</td>\n      <td>NaN</td>\n      <td>NaN</td>\n      <td>...</td>\n      <td>,ci40293944,</td>\n      <td>,ci,</td>\n      <td>,focal-mechanism,nearby-cities,origin,phase-da...</td>\n      <td>31.0</td>\n      <td>0.120400</td>\n      <td>0.17</td>\n      <td>39.0</td>\n      <td>ml</td>\n      <td>earthquake</td>\n      <td>M 1.8 - 25km SW of Bodfish, CA</td>\n    </tr>\n    <tr>\n      <th>795</th>\n      <td>1.30</td>\n      <td>52 km SE of Denali National Park, Alaska</td>\n      <td>1656547220897</td>\n      <td>1656547400020</td>\n      <td>None</td>\n      <td>https://earthquake.usgs.gov/earthquakes/eventp...</td>\n      <td>https://earthquake.usgs.gov/fdsnws/event/1/que...</td>\n      <td>NaN</td>\n      <td>NaN</td>\n      <td>NaN</td>\n      <td>...</td>\n      <td>,ak0228bc9uzt,</td>\n      <td>,ak,</td>\n      <td>,origin,phase-data,</td>\n      <td>NaN</td>\n      <td>NaN</td>\n      <td>1.34</td>\n      <td>NaN</td>\n      <td>ml</td>\n      <td>earthquake</td>\n      <td>M 1.3 - 52 km SE of Denali National Park, Alaska</td>\n    </tr>\n  </tbody>\n</table>\n<p>796 rows × 26 columns</p>\n</div>"
     },
     "execution_count": 14,
     "metadata": {},
     "output_type": "execute_result"
    }
   ],
   "source": [
    "df = pd.DataFrame(earthquake_properties_data)\n",
    "df"
   ],
   "metadata": {
    "collapsed": false,
    "pycharm": {
     "name": "#%%\n"
    }
   }
  },
  {
   "cell_type": "code",
   "execution_count": 15,
   "outputs": [
    {
     "data": {
      "text/plain": "<bound method DataFrame.info of       mag                                              place           time  \\\n0    1.10                    61 km W of Anchor Point, Alaska  1656806033977   \n1    5.30  138 km ESE of Laikit, Laikit II (Dimembe), Ind...  1656805752265   \n2    0.62                         10km NW of The Geysers, CA  1656805646990   \n3    1.70                         3 km SSW of P?hala, Hawaii  1656804989140   \n4    1.78                         4 km WSW of P?hala, Hawaii  1656803481090   \n..    ...                                                ...            ...   \n791  1.19                               4km E of Fremont, CA  1656547697150   \n792  1.84                            25km SSW of Bodfish, CA  1656547417860   \n793  2.18                          11 km SSE of Beaver, Utah  1656547384230   \n794  1.78                             25km SW of Bodfish, CA  1656547307260   \n795  1.30           52 km SE of Denali National Park, Alaska  1656547220897   \n\n           updated    tz                                                url  \\\n0    1656806175576  None  https://earthquake.usgs.gov/earthquakes/eventp...   \n1    1656813967207  None  https://earthquake.usgs.gov/earthquakes/eventp...   \n2    1656806655336  None  https://earthquake.usgs.gov/earthquakes/eventp...   \n3    1656805235360  None  https://earthquake.usgs.gov/earthquakes/eventp...   \n4    1656803670820  None  https://earthquake.usgs.gov/earthquakes/eventp...   \n..             ...   ...                                                ...   \n791  1656558910849  None  https://earthquake.usgs.gov/earthquakes/eventp...   \n792  1656599197394  None  https://earthquake.usgs.gov/earthquakes/eventp...   \n793  1656595417430  None  https://earthquake.usgs.gov/earthquakes/eventp...   \n794  1656611356810  None  https://earthquake.usgs.gov/earthquakes/eventp...   \n795  1656547400020  None  https://earthquake.usgs.gov/earthquakes/eventp...   \n\n                                                detail  felt  cdi  mmi  ...  \\\n0    https://earthquake.usgs.gov/fdsnws/event/1/que...   NaN  NaN  NaN  ...   \n1    https://earthquake.usgs.gov/fdsnws/event/1/que...   1.0  3.7  NaN  ...   \n2    https://earthquake.usgs.gov/fdsnws/event/1/que...   NaN  NaN  NaN  ...   \n3    https://earthquake.usgs.gov/fdsnws/event/1/que...   NaN  NaN  NaN  ...   \n4    https://earthquake.usgs.gov/fdsnws/event/1/que...   NaN  NaN  NaN  ...   \n..                                                 ...   ...  ...  ...  ...   \n791  https://earthquake.usgs.gov/fdsnws/event/1/que...   NaN  NaN  NaN  ...   \n792  https://earthquake.usgs.gov/fdsnws/event/1/que...   NaN  NaN  NaN  ...   \n793  https://earthquake.usgs.gov/fdsnws/event/1/que...   NaN  NaN  NaN  ...   \n794  https://earthquake.usgs.gov/fdsnws/event/1/que...   NaN  NaN  NaN  ...   \n795  https://earthquake.usgs.gov/fdsnws/event/1/que...   NaN  NaN  NaN  ...   \n\n                             ids      sources  \\\n0                 ,ak0228f1cyed,         ,ak,   \n1    ,us6000hzgi,usauto6000hzgi,  ,us,usauto,   \n2                   ,nc73753681,         ,nc,   \n3                   ,hv73063182,         ,hv,   \n4                   ,hv73063162,         ,hv,   \n..                           ...          ...   \n791                 ,nc73752721,         ,nc,   \n792                 ,ci40293952,         ,ci,   \n793                 ,uu60503962,         ,uu,   \n794                 ,ci40293944,         ,ci,   \n795               ,ak0228bc9uzt,         ,ak,   \n\n                                                 types    nst      dmin   rms  \\\n0                                  ,origin,phase-data,    NaN       NaN  0.35   \n1    ,dyfi,internal-moment-tensor,moment-tensor,ori...  116.0  1.264000  0.70   \n2       ,nearby-cities,origin,phase-data,scitech-link,   14.0  0.001292  0.01   \n3                                  ,origin,phase-data,   20.0       NaN  0.16   \n4                                  ,origin,phase-data,   23.0       NaN  0.21   \n..                                                 ...    ...       ...   ...   \n791     ,nearby-cities,origin,phase-data,scitech-link,   20.0  0.006499  0.05   \n792     ,nearby-cities,origin,phase-data,scitech-link,    9.0  0.124000  0.11   \n793                                ,origin,phase-data,   28.0  0.322000  0.20   \n794  ,focal-mechanism,nearby-cities,origin,phase-da...   31.0  0.120400  0.17   \n795                                ,origin,phase-data,    NaN       NaN  1.34   \n\n       gap magType        type  \\\n0      NaN      ml  earthquake   \n1     32.0     mww  earthquake   \n2     87.0      md  earthquake   \n3    202.0      md  earthquake   \n4    141.0      md  earthquake   \n..     ...     ...         ...   \n791   66.0      md  earthquake   \n792   81.0      ml  earthquake   \n793   45.0      ml  earthquake   \n794   39.0      ml  earthquake   \n795    NaN      ml  earthquake   \n\n                                                 title  \n0              M 1.1 - 61 km W of Anchor Point, Alaska  \n1    M 5.3 - 138 km ESE of Laikit, Laikit II (Dimem...  \n2                   M 0.6 - 10km NW of The Geysers, CA  \n3                   M 1.7 - 3 km SSW of P?hala, Hawaii  \n4                   M 1.8 - 4 km WSW of P?hala, Hawaii  \n..                                                 ...  \n791                       M 1.2 - 4km E of Fremont, CA  \n792                    M 1.8 - 25km SSW of Bodfish, CA  \n793                  M 2.2 - 11 km SSE of Beaver, Utah  \n794                     M 1.8 - 25km SW of Bodfish, CA  \n795   M 1.3 - 52 km SE of Denali National Park, Alaska  \n\n[796 rows x 26 columns]>"
     },
     "execution_count": 15,
     "metadata": {},
     "output_type": "execute_result"
    }
   ],
   "source": [
    "df.info"
   ],
   "metadata": {
    "collapsed": false,
    "pycharm": {
     "name": "#%%\n"
    }
   }
  },
  {
   "cell_type": "code",
   "execution_count": 16,
   "outputs": [
    {
     "data": {
      "text/plain": "(796, 26)"
     },
     "execution_count": 16,
     "metadata": {},
     "output_type": "execute_result"
    }
   ],
   "source": [
    "df.shape"
   ],
   "metadata": {
    "collapsed": false,
    "pycharm": {
     "name": "#%%\n"
    }
   }
  },
  {
   "cell_type": "code",
   "execution_count": 17,
   "outputs": [
    {
     "data": {
      "text/plain": "False"
     },
     "execution_count": 17,
     "metadata": {},
     "output_type": "execute_result"
    }
   ],
   "source": [
    "df.empty"
   ],
   "metadata": {
    "collapsed": false,
    "pycharm": {
     "name": "#%%\n"
    }
   }
  },
  {
   "cell_type": "code",
   "execution_count": 18,
   "outputs": [
    {
     "data": {
      "text/plain": "    mag                                              place           time  \\\n0  1.10                    61 km W of Anchor Point, Alaska  1656806033977   \n1  5.30  138 km ESE of Laikit, Laikit II (Dimembe), Ind...  1656805752265   \n2  0.62                         10km NW of The Geysers, CA  1656805646990   \n3  1.70                         3 km SSW of P?hala, Hawaii  1656804989140   \n4  1.78                         4 km WSW of P?hala, Hawaii  1656803481090   \n\n         updated    tz                                                url  \\\n0  1656806175576  None  https://earthquake.usgs.gov/earthquakes/eventp...   \n1  1656813967207  None  https://earthquake.usgs.gov/earthquakes/eventp...   \n2  1656806655336  None  https://earthquake.usgs.gov/earthquakes/eventp...   \n3  1656805235360  None  https://earthquake.usgs.gov/earthquakes/eventp...   \n4  1656803670820  None  https://earthquake.usgs.gov/earthquakes/eventp...   \n\n                                              detail  felt  cdi  mmi  ...  \\\n0  https://earthquake.usgs.gov/fdsnws/event/1/que...   NaN  NaN  NaN  ...   \n1  https://earthquake.usgs.gov/fdsnws/event/1/que...   1.0  3.7  NaN  ...   \n2  https://earthquake.usgs.gov/fdsnws/event/1/que...   NaN  NaN  NaN  ...   \n3  https://earthquake.usgs.gov/fdsnws/event/1/que...   NaN  NaN  NaN  ...   \n4  https://earthquake.usgs.gov/fdsnws/event/1/que...   NaN  NaN  NaN  ...   \n\n                           ids      sources  \\\n0               ,ak0228f1cyed,         ,ak,   \n1  ,us6000hzgi,usauto6000hzgi,  ,us,usauto,   \n2                 ,nc73753681,         ,nc,   \n3                 ,hv73063182,         ,hv,   \n4                 ,hv73063162,         ,hv,   \n\n                                               types    nst      dmin   rms  \\\n0                                ,origin,phase-data,    NaN       NaN  0.35   \n1  ,dyfi,internal-moment-tensor,moment-tensor,ori...  116.0  1.264000  0.70   \n2     ,nearby-cities,origin,phase-data,scitech-link,   14.0  0.001292  0.01   \n3                                ,origin,phase-data,   20.0       NaN  0.16   \n4                                ,origin,phase-data,   23.0       NaN  0.21   \n\n     gap magType        type  \\\n0    NaN      ml  earthquake   \n1   32.0     mww  earthquake   \n2   87.0      md  earthquake   \n3  202.0      md  earthquake   \n4  141.0      md  earthquake   \n\n                                               title  \n0            M 1.1 - 61 km W of Anchor Point, Alaska  \n1  M 5.3 - 138 km ESE of Laikit, Laikit II (Dimem...  \n2                 M 0.6 - 10km NW of The Geysers, CA  \n3                 M 1.7 - 3 km SSW of P?hala, Hawaii  \n4                 M 1.8 - 4 km WSW of P?hala, Hawaii  \n\n[5 rows x 26 columns]",
      "text/html": "<div>\n<style scoped>\n    .dataframe tbody tr th:only-of-type {\n        vertical-align: middle;\n    }\n\n    .dataframe tbody tr th {\n        vertical-align: top;\n    }\n\n    .dataframe thead th {\n        text-align: right;\n    }\n</style>\n<table border=\"1\" class=\"dataframe\">\n  <thead>\n    <tr style=\"text-align: right;\">\n      <th></th>\n      <th>mag</th>\n      <th>place</th>\n      <th>time</th>\n      <th>updated</th>\n      <th>tz</th>\n      <th>url</th>\n      <th>detail</th>\n      <th>felt</th>\n      <th>cdi</th>\n      <th>mmi</th>\n      <th>...</th>\n      <th>ids</th>\n      <th>sources</th>\n      <th>types</th>\n      <th>nst</th>\n      <th>dmin</th>\n      <th>rms</th>\n      <th>gap</th>\n      <th>magType</th>\n      <th>type</th>\n      <th>title</th>\n    </tr>\n  </thead>\n  <tbody>\n    <tr>\n      <th>0</th>\n      <td>1.10</td>\n      <td>61 km W of Anchor Point, Alaska</td>\n      <td>1656806033977</td>\n      <td>1656806175576</td>\n      <td>None</td>\n      <td>https://earthquake.usgs.gov/earthquakes/eventp...</td>\n      <td>https://earthquake.usgs.gov/fdsnws/event/1/que...</td>\n      <td>NaN</td>\n      <td>NaN</td>\n      <td>NaN</td>\n      <td>...</td>\n      <td>,ak0228f1cyed,</td>\n      <td>,ak,</td>\n      <td>,origin,phase-data,</td>\n      <td>NaN</td>\n      <td>NaN</td>\n      <td>0.35</td>\n      <td>NaN</td>\n      <td>ml</td>\n      <td>earthquake</td>\n      <td>M 1.1 - 61 km W of Anchor Point, Alaska</td>\n    </tr>\n    <tr>\n      <th>1</th>\n      <td>5.30</td>\n      <td>138 km ESE of Laikit, Laikit II (Dimembe), Ind...</td>\n      <td>1656805752265</td>\n      <td>1656813967207</td>\n      <td>None</td>\n      <td>https://earthquake.usgs.gov/earthquakes/eventp...</td>\n      <td>https://earthquake.usgs.gov/fdsnws/event/1/que...</td>\n      <td>1.0</td>\n      <td>3.7</td>\n      <td>NaN</td>\n      <td>...</td>\n      <td>,us6000hzgi,usauto6000hzgi,</td>\n      <td>,us,usauto,</td>\n      <td>,dyfi,internal-moment-tensor,moment-tensor,ori...</td>\n      <td>116.0</td>\n      <td>1.264000</td>\n      <td>0.70</td>\n      <td>32.0</td>\n      <td>mww</td>\n      <td>earthquake</td>\n      <td>M 5.3 - 138 km ESE of Laikit, Laikit II (Dimem...</td>\n    </tr>\n    <tr>\n      <th>2</th>\n      <td>0.62</td>\n      <td>10km NW of The Geysers, CA</td>\n      <td>1656805646990</td>\n      <td>1656806655336</td>\n      <td>None</td>\n      <td>https://earthquake.usgs.gov/earthquakes/eventp...</td>\n      <td>https://earthquake.usgs.gov/fdsnws/event/1/que...</td>\n      <td>NaN</td>\n      <td>NaN</td>\n      <td>NaN</td>\n      <td>...</td>\n      <td>,nc73753681,</td>\n      <td>,nc,</td>\n      <td>,nearby-cities,origin,phase-data,scitech-link,</td>\n      <td>14.0</td>\n      <td>0.001292</td>\n      <td>0.01</td>\n      <td>87.0</td>\n      <td>md</td>\n      <td>earthquake</td>\n      <td>M 0.6 - 10km NW of The Geysers, CA</td>\n    </tr>\n    <tr>\n      <th>3</th>\n      <td>1.70</td>\n      <td>3 km SSW of P?hala, Hawaii</td>\n      <td>1656804989140</td>\n      <td>1656805235360</td>\n      <td>None</td>\n      <td>https://earthquake.usgs.gov/earthquakes/eventp...</td>\n      <td>https://earthquake.usgs.gov/fdsnws/event/1/que...</td>\n      <td>NaN</td>\n      <td>NaN</td>\n      <td>NaN</td>\n      <td>...</td>\n      <td>,hv73063182,</td>\n      <td>,hv,</td>\n      <td>,origin,phase-data,</td>\n      <td>20.0</td>\n      <td>NaN</td>\n      <td>0.16</td>\n      <td>202.0</td>\n      <td>md</td>\n      <td>earthquake</td>\n      <td>M 1.7 - 3 km SSW of P?hala, Hawaii</td>\n    </tr>\n    <tr>\n      <th>4</th>\n      <td>1.78</td>\n      <td>4 km WSW of P?hala, Hawaii</td>\n      <td>1656803481090</td>\n      <td>1656803670820</td>\n      <td>None</td>\n      <td>https://earthquake.usgs.gov/earthquakes/eventp...</td>\n      <td>https://earthquake.usgs.gov/fdsnws/event/1/que...</td>\n      <td>NaN</td>\n      <td>NaN</td>\n      <td>NaN</td>\n      <td>...</td>\n      <td>,hv73063162,</td>\n      <td>,hv,</td>\n      <td>,origin,phase-data,</td>\n      <td>23.0</td>\n      <td>NaN</td>\n      <td>0.21</td>\n      <td>141.0</td>\n      <td>md</td>\n      <td>earthquake</td>\n      <td>M 1.8 - 4 km WSW of P?hala, Hawaii</td>\n    </tr>\n  </tbody>\n</table>\n<p>5 rows × 26 columns</p>\n</div>"
     },
     "execution_count": 18,
     "metadata": {},
     "output_type": "execute_result"
    }
   ],
   "source": [
    "df.head()"
   ],
   "metadata": {
    "collapsed": false,
    "pycharm": {
     "name": "#%%\n"
    }
   }
  },
  {
   "cell_type": "code",
   "execution_count": 19,
   "outputs": [
    {
     "data": {
      "text/plain": "      mag                                     place           time  \\\n794  1.78                    25km SW of Bodfish, CA  1656547307260   \n795  1.30  52 km SE of Denali National Park, Alaska  1656547220897   \n\n           updated    tz                                                url  \\\n794  1656611356810  None  https://earthquake.usgs.gov/earthquakes/eventp...   \n795  1656547400020  None  https://earthquake.usgs.gov/earthquakes/eventp...   \n\n                                                detail  felt  cdi  mmi  ...  \\\n794  https://earthquake.usgs.gov/fdsnws/event/1/que...   NaN  NaN  NaN  ...   \n795  https://earthquake.usgs.gov/fdsnws/event/1/que...   NaN  NaN  NaN  ...   \n\n                ids sources  \\\n794    ,ci40293944,    ,ci,   \n795  ,ak0228bc9uzt,    ,ak,   \n\n                                                 types   nst    dmin   rms  \\\n794  ,focal-mechanism,nearby-cities,origin,phase-da...  31.0  0.1204  0.17   \n795                                ,origin,phase-data,   NaN     NaN  1.34   \n\n      gap magType        type  \\\n794  39.0      ml  earthquake   \n795   NaN      ml  earthquake   \n\n                                                title  \n794                    M 1.8 - 25km SW of Bodfish, CA  \n795  M 1.3 - 52 km SE of Denali National Park, Alaska  \n\n[2 rows x 26 columns]",
      "text/html": "<div>\n<style scoped>\n    .dataframe tbody tr th:only-of-type {\n        vertical-align: middle;\n    }\n\n    .dataframe tbody tr th {\n        vertical-align: top;\n    }\n\n    .dataframe thead th {\n        text-align: right;\n    }\n</style>\n<table border=\"1\" class=\"dataframe\">\n  <thead>\n    <tr style=\"text-align: right;\">\n      <th></th>\n      <th>mag</th>\n      <th>place</th>\n      <th>time</th>\n      <th>updated</th>\n      <th>tz</th>\n      <th>url</th>\n      <th>detail</th>\n      <th>felt</th>\n      <th>cdi</th>\n      <th>mmi</th>\n      <th>...</th>\n      <th>ids</th>\n      <th>sources</th>\n      <th>types</th>\n      <th>nst</th>\n      <th>dmin</th>\n      <th>rms</th>\n      <th>gap</th>\n      <th>magType</th>\n      <th>type</th>\n      <th>title</th>\n    </tr>\n  </thead>\n  <tbody>\n    <tr>\n      <th>794</th>\n      <td>1.78</td>\n      <td>25km SW of Bodfish, CA</td>\n      <td>1656547307260</td>\n      <td>1656611356810</td>\n      <td>None</td>\n      <td>https://earthquake.usgs.gov/earthquakes/eventp...</td>\n      <td>https://earthquake.usgs.gov/fdsnws/event/1/que...</td>\n      <td>NaN</td>\n      <td>NaN</td>\n      <td>NaN</td>\n      <td>...</td>\n      <td>,ci40293944,</td>\n      <td>,ci,</td>\n      <td>,focal-mechanism,nearby-cities,origin,phase-da...</td>\n      <td>31.0</td>\n      <td>0.1204</td>\n      <td>0.17</td>\n      <td>39.0</td>\n      <td>ml</td>\n      <td>earthquake</td>\n      <td>M 1.8 - 25km SW of Bodfish, CA</td>\n    </tr>\n    <tr>\n      <th>795</th>\n      <td>1.30</td>\n      <td>52 km SE of Denali National Park, Alaska</td>\n      <td>1656547220897</td>\n      <td>1656547400020</td>\n      <td>None</td>\n      <td>https://earthquake.usgs.gov/earthquakes/eventp...</td>\n      <td>https://earthquake.usgs.gov/fdsnws/event/1/que...</td>\n      <td>NaN</td>\n      <td>NaN</td>\n      <td>NaN</td>\n      <td>...</td>\n      <td>,ak0228bc9uzt,</td>\n      <td>,ak,</td>\n      <td>,origin,phase-data,</td>\n      <td>NaN</td>\n      <td>NaN</td>\n      <td>1.34</td>\n      <td>NaN</td>\n      <td>ml</td>\n      <td>earthquake</td>\n      <td>M 1.3 - 52 km SE of Denali National Park, Alaska</td>\n    </tr>\n  </tbody>\n</table>\n<p>2 rows × 26 columns</p>\n</div>"
     },
     "execution_count": 19,
     "metadata": {},
     "output_type": "execute_result"
    }
   ],
   "source": [
    "df.tail(2)"
   ],
   "metadata": {
    "collapsed": false,
    "pycharm": {
     "name": "#%%\n"
    }
   }
  },
  {
   "cell_type": "code",
   "execution_count": 20,
   "outputs": [
    {
     "data": {
      "text/plain": "mag        float64\nplace       object\ntime         int64\nupdated      int64\ntz          object\nurl         object\ndetail      object\nfelt       float64\ncdi        float64\nmmi        float64\nalert       object\nstatus      object\ntsunami      int64\nsig          int64\nnet         object\ncode        object\nids         object\nsources     object\ntypes       object\nnst        float64\ndmin       float64\nrms        float64\ngap        float64\nmagType     object\ntype        object\ntitle       object\ndtype: object"
     },
     "execution_count": 20,
     "metadata": {},
     "output_type": "execute_result"
    }
   ],
   "source": [
    "df.dtypes"
   ],
   "metadata": {
    "collapsed": false,
    "pycharm": {
     "name": "#%%\n"
    }
   }
  },
  {
   "cell_type": "code",
   "execution_count": 21,
   "outputs": [
    {
     "name": "stdout",
     "output_type": "stream",
     "text": [
      "<class 'pandas.core.frame.DataFrame'>\n",
      "RangeIndex: 796 entries, 0 to 795\n",
      "Data columns (total 26 columns):\n",
      " #   Column   Non-Null Count  Dtype  \n",
      "---  ------   --------------  -----  \n",
      " 0   mag      796 non-null    float64\n",
      " 1   place    796 non-null    object \n",
      " 2   time     796 non-null    int64  \n",
      " 3   updated  796 non-null    int64  \n",
      " 4   tz       0 non-null      object \n",
      " 5   url      796 non-null    object \n",
      " 6   detail   796 non-null    object \n",
      " 7   felt     58 non-null     float64\n",
      " 8   cdi      58 non-null     float64\n",
      " 9   mmi      10 non-null     float64\n",
      " 10  alert    5 non-null      object \n",
      " 11  status   796 non-null    object \n",
      " 12  tsunami  796 non-null    int64  \n",
      " 13  sig      796 non-null    int64  \n",
      " 14  net      796 non-null    object \n",
      " 15  code     796 non-null    object \n",
      " 16  ids      796 non-null    object \n",
      " 17  sources  796 non-null    object \n",
      " 18  types    796 non-null    object \n",
      " 19  nst      670 non-null    float64\n",
      " 20  dmin     509 non-null    float64\n",
      " 21  rms      796 non-null    float64\n",
      " 22  gap      670 non-null    float64\n",
      " 23  magType  796 non-null    object \n",
      " 24  type     796 non-null    object \n",
      " 25  title    796 non-null    object \n",
      "dtypes: float64(8), int64(4), object(14)\n",
      "memory usage: 161.8+ KB\n"
     ]
    }
   ],
   "source": [
    "df.info()"
   ],
   "metadata": {
    "collapsed": false,
    "pycharm": {
     "name": "#%%\n"
    }
   }
  },
  {
   "cell_type": "code",
   "execution_count": 22,
   "outputs": [
    {
     "data": {
      "text/plain": "              mag          time       updated        felt        cdi  \\\ncount  796.000000  7.960000e+02  7.960000e+02   58.000000  58.000000   \nmean     1.561771  1.656668e+12  1.656695e+12   25.362069   2.987931   \nstd      1.192712  7.435460e+07  7.969752e+07   72.442282   1.413851   \nmin     -1.050000  1.656547e+12  1.656547e+12    0.000000   0.000000   \n25%      0.827500  1.656603e+12  1.656631e+12    1.000000   2.000000   \n50%      1.325000  1.656662e+12  1.656690e+12    2.000000   3.100000   \n75%      2.100000  1.656732e+12  1.656758e+12   16.000000   3.800000   \nmax      6.000000  1.656806e+12  1.656936e+12  488.000000   6.800000   \n\n             mmi  tsunami         sig         nst        dmin         rms  \\\ncount  10.000000    796.0  796.000000  670.000000  509.000000  796.000000   \nmean    4.292700      0.0   60.457286   21.825373    0.401355    0.258387   \nstd     2.345041      0.0   94.969068   23.887084    1.279403    0.268282   \nmin     1.000000      0.0    0.000000    3.000000    0.000867    0.000000   \n25%     3.064750      0.0   10.750000    9.000000    0.018470    0.090000   \n50%     3.596500      0.0   27.000000   15.500000    0.052760    0.160000   \n75%     6.614500      0.0   68.000000   26.000000    0.134300    0.300000   \nmax     7.408000      0.0  889.000000  364.000000   19.147000    1.910000   \n\n              gap  \ncount  670.000000  \nmean   126.502899  \nstd     67.889309  \nmin     20.000000  \n25%     72.000000  \n50%    110.200000  \n75%    174.000000  \nmax    347.000000  ",
      "text/html": "<div>\n<style scoped>\n    .dataframe tbody tr th:only-of-type {\n        vertical-align: middle;\n    }\n\n    .dataframe tbody tr th {\n        vertical-align: top;\n    }\n\n    .dataframe thead th {\n        text-align: right;\n    }\n</style>\n<table border=\"1\" class=\"dataframe\">\n  <thead>\n    <tr style=\"text-align: right;\">\n      <th></th>\n      <th>mag</th>\n      <th>time</th>\n      <th>updated</th>\n      <th>felt</th>\n      <th>cdi</th>\n      <th>mmi</th>\n      <th>tsunami</th>\n      <th>sig</th>\n      <th>nst</th>\n      <th>dmin</th>\n      <th>rms</th>\n      <th>gap</th>\n    </tr>\n  </thead>\n  <tbody>\n    <tr>\n      <th>count</th>\n      <td>796.000000</td>\n      <td>7.960000e+02</td>\n      <td>7.960000e+02</td>\n      <td>58.000000</td>\n      <td>58.000000</td>\n      <td>10.000000</td>\n      <td>796.0</td>\n      <td>796.000000</td>\n      <td>670.000000</td>\n      <td>509.000000</td>\n      <td>796.000000</td>\n      <td>670.000000</td>\n    </tr>\n    <tr>\n      <th>mean</th>\n      <td>1.561771</td>\n      <td>1.656668e+12</td>\n      <td>1.656695e+12</td>\n      <td>25.362069</td>\n      <td>2.987931</td>\n      <td>4.292700</td>\n      <td>0.0</td>\n      <td>60.457286</td>\n      <td>21.825373</td>\n      <td>0.401355</td>\n      <td>0.258387</td>\n      <td>126.502899</td>\n    </tr>\n    <tr>\n      <th>std</th>\n      <td>1.192712</td>\n      <td>7.435460e+07</td>\n      <td>7.969752e+07</td>\n      <td>72.442282</td>\n      <td>1.413851</td>\n      <td>2.345041</td>\n      <td>0.0</td>\n      <td>94.969068</td>\n      <td>23.887084</td>\n      <td>1.279403</td>\n      <td>0.268282</td>\n      <td>67.889309</td>\n    </tr>\n    <tr>\n      <th>min</th>\n      <td>-1.050000</td>\n      <td>1.656547e+12</td>\n      <td>1.656547e+12</td>\n      <td>0.000000</td>\n      <td>0.000000</td>\n      <td>1.000000</td>\n      <td>0.0</td>\n      <td>0.000000</td>\n      <td>3.000000</td>\n      <td>0.000867</td>\n      <td>0.000000</td>\n      <td>20.000000</td>\n    </tr>\n    <tr>\n      <th>25%</th>\n      <td>0.827500</td>\n      <td>1.656603e+12</td>\n      <td>1.656631e+12</td>\n      <td>1.000000</td>\n      <td>2.000000</td>\n      <td>3.064750</td>\n      <td>0.0</td>\n      <td>10.750000</td>\n      <td>9.000000</td>\n      <td>0.018470</td>\n      <td>0.090000</td>\n      <td>72.000000</td>\n    </tr>\n    <tr>\n      <th>50%</th>\n      <td>1.325000</td>\n      <td>1.656662e+12</td>\n      <td>1.656690e+12</td>\n      <td>2.000000</td>\n      <td>3.100000</td>\n      <td>3.596500</td>\n      <td>0.0</td>\n      <td>27.000000</td>\n      <td>15.500000</td>\n      <td>0.052760</td>\n      <td>0.160000</td>\n      <td>110.200000</td>\n    </tr>\n    <tr>\n      <th>75%</th>\n      <td>2.100000</td>\n      <td>1.656732e+12</td>\n      <td>1.656758e+12</td>\n      <td>16.000000</td>\n      <td>3.800000</td>\n      <td>6.614500</td>\n      <td>0.0</td>\n      <td>68.000000</td>\n      <td>26.000000</td>\n      <td>0.134300</td>\n      <td>0.300000</td>\n      <td>174.000000</td>\n    </tr>\n    <tr>\n      <th>max</th>\n      <td>6.000000</td>\n      <td>1.656806e+12</td>\n      <td>1.656936e+12</td>\n      <td>488.000000</td>\n      <td>6.800000</td>\n      <td>7.408000</td>\n      <td>0.0</td>\n      <td>889.000000</td>\n      <td>364.000000</td>\n      <td>19.147000</td>\n      <td>1.910000</td>\n      <td>347.000000</td>\n    </tr>\n  </tbody>\n</table>\n</div>"
     },
     "execution_count": 22,
     "metadata": {},
     "output_type": "execute_result"
    }
   ],
   "source": [
    "df.describe()"
   ],
   "metadata": {
    "collapsed": false,
    "pycharm": {
     "name": "#%%\n"
    }
   }
  },
  {
   "cell_type": "code",
   "execution_count": 23,
   "outputs": [
    {
     "data": {
      "text/plain": "array([None, 'green', 'yellow'], dtype=object)"
     },
     "execution_count": 23,
     "metadata": {},
     "output_type": "execute_result"
    }
   ],
   "source": [
    "df.alert.unique()"
   ],
   "metadata": {
    "collapsed": false,
    "pycharm": {
     "name": "#%%\n"
    }
   }
  },
  {
   "cell_type": "code",
   "execution_count": 24,
   "outputs": [
    {
     "data": {
      "text/plain": "yellow    3\ngreen     2\nName: alert, dtype: int64"
     },
     "execution_count": 24,
     "metadata": {},
     "output_type": "execute_result"
    }
   ],
   "source": [
    "df.alert.value_counts()"
   ],
   "metadata": {
    "collapsed": false,
    "pycharm": {
     "name": "#%%\n"
    }
   }
  },
  {
   "cell_type": "code",
   "execution_count": 27,
   "outputs": [
    {
     "data": {
      "text/plain": "mag        314\nplace      623\ntime       796\nupdated    796\ntz           0\nurl        796\ndetail     796\nfelt        23\ncdi         24\nmmi         10\nalert        2\nstatus       2\ntsunami      1\nsig        156\nnet         15\ncode       795\nids        796\nsources     34\ntypes       18\nnst         80\ndmin       493\nrms        169\ngap        269\nmagType      6\ntype         3\ntitle      754\ndtype: int64"
     },
     "execution_count": 27,
     "metadata": {},
     "output_type": "execute_result"
    }
   ],
   "source": [
    "df.nunique(dropna=True)"
   ],
   "metadata": {
    "collapsed": false,
    "pycharm": {
     "name": "#%%\n"
    }
   }
  },
  {
   "cell_type": "code",
   "execution_count": 30,
   "outputs": [
    {
     "data": {
      "text/plain": "mag        314\nplace      623\ntime       796\nupdated    796\ntz           0\nurl        796\ndetail     796\nfelt        23\ncdi         24\nmmi         10\nalert        2\nstatus       2\ntsunami      1\nsig        156\nnet         15\ncode       795\nids        796\nsources     34\ntypes       18\nnst         80\ndmin       493\nrms        169\ngap        269\nmagType      6\ntype         3\ntitle      754\ndtype: int64"
     },
     "execution_count": 30,
     "metadata": {},
     "output_type": "execute_result"
    }
   ],
   "source": [
    "df.nunique()"
   ],
   "metadata": {
    "collapsed": false,
    "pycharm": {
     "name": "#%%\n"
    }
   }
  },
  {
   "cell_type": "code",
   "execution_count": 31,
   "outputs": [
    {
     "data": {
      "text/plain": "               mag                         place          time       updated  \\\ncount   796.000000                           796  7.960000e+02  7.960000e+02   \nunique         NaN                           623           NaN           NaN   \ntop            NaN  15 km SSE of Sunnyside, Utah           NaN           NaN   \nfreq           NaN                            17           NaN           NaN   \nmean      1.561771                           NaN  1.656668e+12  1.656695e+12   \nstd       1.192712                           NaN  7.435460e+07  7.969752e+07   \nmin      -1.050000                           NaN  1.656547e+12  1.656547e+12   \n25%       0.827500                           NaN  1.656603e+12  1.656631e+12   \n50%       1.325000                           NaN  1.656662e+12  1.656690e+12   \n75%       2.100000                           NaN  1.656732e+12  1.656758e+12   \nmax       6.000000                           NaN  1.656806e+12  1.656936e+12   \n\n         tz                                                url  \\\ncount     0                                                796   \nunique    0                                                796   \ntop     NaN  https://earthquake.usgs.gov/earthquakes/eventp...   \nfreq    NaN                                                  1   \nmean    NaN                                                NaN   \nstd     NaN                                                NaN   \nmin     NaN                                                NaN   \n25%     NaN                                                NaN   \n50%     NaN                                                NaN   \n75%     NaN                                                NaN   \nmax     NaN                                                NaN   \n\n                                                   detail        felt  \\\ncount                                                 796   58.000000   \nunique                                                796         NaN   \ntop     https://earthquake.usgs.gov/fdsnws/event/1/que...         NaN   \nfreq                                                    1         NaN   \nmean                                                  NaN   25.362069   \nstd                                                   NaN   72.442282   \nmin                                                   NaN    0.000000   \n25%                                                   NaN    1.000000   \n50%                                                   NaN    2.000000   \n75%                                                   NaN   16.000000   \nmax                                                   NaN  488.000000   \n\n              cdi        mmi  ...             ids sources  \\\ncount   58.000000  10.000000  ...             796     796   \nunique        NaN        NaN  ...             796      34   \ntop           NaN        NaN  ...  ,ak0228f1cyed,    ,nc,   \nfreq          NaN        NaN  ...               1     139   \nmean     2.987931   4.292700  ...             NaN     NaN   \nstd      1.413851   2.345041  ...             NaN     NaN   \nmin      0.000000   1.000000  ...             NaN     NaN   \n25%      2.000000   3.064750  ...             NaN     NaN   \n50%      3.100000   3.596500  ...             NaN     NaN   \n75%      3.800000   6.614500  ...             NaN     NaN   \nmax      6.800000   7.408000  ...             NaN     NaN   \n\n                      types         nst        dmin         rms         gap  \\\ncount                   796  670.000000  509.000000  796.000000  670.000000   \nunique                   18         NaN         NaN         NaN         NaN   \ntop     ,origin,phase-data,         NaN         NaN         NaN         NaN   \nfreq                    480         NaN         NaN         NaN         NaN   \nmean                    NaN   21.825373    0.401355    0.258387  126.502899   \nstd                     NaN   23.887084    1.279403    0.268282   67.889309   \nmin                     NaN    3.000000    0.000867    0.000000   20.000000   \n25%                     NaN    9.000000    0.018470    0.090000   72.000000   \n50%                     NaN   15.500000    0.052760    0.160000  110.200000   \n75%                     NaN   26.000000    0.134300    0.300000  174.000000   \nmax                     NaN  364.000000   19.147000    1.910000  347.000000   \n\n       magType        type                                 title  \ncount      796         796                                   796  \nunique       6           3                                   754  \ntop         ml  earthquake  M 1.4 - 15 km SSE of Sunnyside, Utah  \nfreq       470         786                                     7  \nmean       NaN         NaN                                   NaN  \nstd        NaN         NaN                                   NaN  \nmin        NaN         NaN                                   NaN  \n25%        NaN         NaN                                   NaN  \n50%        NaN         NaN                                   NaN  \n75%        NaN         NaN                                   NaN  \nmax        NaN         NaN                                   NaN  \n\n[11 rows x 26 columns]",
      "text/html": "<div>\n<style scoped>\n    .dataframe tbody tr th:only-of-type {\n        vertical-align: middle;\n    }\n\n    .dataframe tbody tr th {\n        vertical-align: top;\n    }\n\n    .dataframe thead th {\n        text-align: right;\n    }\n</style>\n<table border=\"1\" class=\"dataframe\">\n  <thead>\n    <tr style=\"text-align: right;\">\n      <th></th>\n      <th>mag</th>\n      <th>place</th>\n      <th>time</th>\n      <th>updated</th>\n      <th>tz</th>\n      <th>url</th>\n      <th>detail</th>\n      <th>felt</th>\n      <th>cdi</th>\n      <th>mmi</th>\n      <th>...</th>\n      <th>ids</th>\n      <th>sources</th>\n      <th>types</th>\n      <th>nst</th>\n      <th>dmin</th>\n      <th>rms</th>\n      <th>gap</th>\n      <th>magType</th>\n      <th>type</th>\n      <th>title</th>\n    </tr>\n  </thead>\n  <tbody>\n    <tr>\n      <th>count</th>\n      <td>796.000000</td>\n      <td>796</td>\n      <td>7.960000e+02</td>\n      <td>7.960000e+02</td>\n      <td>0</td>\n      <td>796</td>\n      <td>796</td>\n      <td>58.000000</td>\n      <td>58.000000</td>\n      <td>10.000000</td>\n      <td>...</td>\n      <td>796</td>\n      <td>796</td>\n      <td>796</td>\n      <td>670.000000</td>\n      <td>509.000000</td>\n      <td>796.000000</td>\n      <td>670.000000</td>\n      <td>796</td>\n      <td>796</td>\n      <td>796</td>\n    </tr>\n    <tr>\n      <th>unique</th>\n      <td>NaN</td>\n      <td>623</td>\n      <td>NaN</td>\n      <td>NaN</td>\n      <td>0</td>\n      <td>796</td>\n      <td>796</td>\n      <td>NaN</td>\n      <td>NaN</td>\n      <td>NaN</td>\n      <td>...</td>\n      <td>796</td>\n      <td>34</td>\n      <td>18</td>\n      <td>NaN</td>\n      <td>NaN</td>\n      <td>NaN</td>\n      <td>NaN</td>\n      <td>6</td>\n      <td>3</td>\n      <td>754</td>\n    </tr>\n    <tr>\n      <th>top</th>\n      <td>NaN</td>\n      <td>15 km SSE of Sunnyside, Utah</td>\n      <td>NaN</td>\n      <td>NaN</td>\n      <td>NaN</td>\n      <td>https://earthquake.usgs.gov/earthquakes/eventp...</td>\n      <td>https://earthquake.usgs.gov/fdsnws/event/1/que...</td>\n      <td>NaN</td>\n      <td>NaN</td>\n      <td>NaN</td>\n      <td>...</td>\n      <td>,ak0228f1cyed,</td>\n      <td>,nc,</td>\n      <td>,origin,phase-data,</td>\n      <td>NaN</td>\n      <td>NaN</td>\n      <td>NaN</td>\n      <td>NaN</td>\n      <td>ml</td>\n      <td>earthquake</td>\n      <td>M 1.4 - 15 km SSE of Sunnyside, Utah</td>\n    </tr>\n    <tr>\n      <th>freq</th>\n      <td>NaN</td>\n      <td>17</td>\n      <td>NaN</td>\n      <td>NaN</td>\n      <td>NaN</td>\n      <td>1</td>\n      <td>1</td>\n      <td>NaN</td>\n      <td>NaN</td>\n      <td>NaN</td>\n      <td>...</td>\n      <td>1</td>\n      <td>139</td>\n      <td>480</td>\n      <td>NaN</td>\n      <td>NaN</td>\n      <td>NaN</td>\n      <td>NaN</td>\n      <td>470</td>\n      <td>786</td>\n      <td>7</td>\n    </tr>\n    <tr>\n      <th>mean</th>\n      <td>1.561771</td>\n      <td>NaN</td>\n      <td>1.656668e+12</td>\n      <td>1.656695e+12</td>\n      <td>NaN</td>\n      <td>NaN</td>\n      <td>NaN</td>\n      <td>25.362069</td>\n      <td>2.987931</td>\n      <td>4.292700</td>\n      <td>...</td>\n      <td>NaN</td>\n      <td>NaN</td>\n      <td>NaN</td>\n      <td>21.825373</td>\n      <td>0.401355</td>\n      <td>0.258387</td>\n      <td>126.502899</td>\n      <td>NaN</td>\n      <td>NaN</td>\n      <td>NaN</td>\n    </tr>\n    <tr>\n      <th>std</th>\n      <td>1.192712</td>\n      <td>NaN</td>\n      <td>7.435460e+07</td>\n      <td>7.969752e+07</td>\n      <td>NaN</td>\n      <td>NaN</td>\n      <td>NaN</td>\n      <td>72.442282</td>\n      <td>1.413851</td>\n      <td>2.345041</td>\n      <td>...</td>\n      <td>NaN</td>\n      <td>NaN</td>\n      <td>NaN</td>\n      <td>23.887084</td>\n      <td>1.279403</td>\n      <td>0.268282</td>\n      <td>67.889309</td>\n      <td>NaN</td>\n      <td>NaN</td>\n      <td>NaN</td>\n    </tr>\n    <tr>\n      <th>min</th>\n      <td>-1.050000</td>\n      <td>NaN</td>\n      <td>1.656547e+12</td>\n      <td>1.656547e+12</td>\n      <td>NaN</td>\n      <td>NaN</td>\n      <td>NaN</td>\n      <td>0.000000</td>\n      <td>0.000000</td>\n      <td>1.000000</td>\n      <td>...</td>\n      <td>NaN</td>\n      <td>NaN</td>\n      <td>NaN</td>\n      <td>3.000000</td>\n      <td>0.000867</td>\n      <td>0.000000</td>\n      <td>20.000000</td>\n      <td>NaN</td>\n      <td>NaN</td>\n      <td>NaN</td>\n    </tr>\n    <tr>\n      <th>25%</th>\n      <td>0.827500</td>\n      <td>NaN</td>\n      <td>1.656603e+12</td>\n      <td>1.656631e+12</td>\n      <td>NaN</td>\n      <td>NaN</td>\n      <td>NaN</td>\n      <td>1.000000</td>\n      <td>2.000000</td>\n      <td>3.064750</td>\n      <td>...</td>\n      <td>NaN</td>\n      <td>NaN</td>\n      <td>NaN</td>\n      <td>9.000000</td>\n      <td>0.018470</td>\n      <td>0.090000</td>\n      <td>72.000000</td>\n      <td>NaN</td>\n      <td>NaN</td>\n      <td>NaN</td>\n    </tr>\n    <tr>\n      <th>50%</th>\n      <td>1.325000</td>\n      <td>NaN</td>\n      <td>1.656662e+12</td>\n      <td>1.656690e+12</td>\n      <td>NaN</td>\n      <td>NaN</td>\n      <td>NaN</td>\n      <td>2.000000</td>\n      <td>3.100000</td>\n      <td>3.596500</td>\n      <td>...</td>\n      <td>NaN</td>\n      <td>NaN</td>\n      <td>NaN</td>\n      <td>15.500000</td>\n      <td>0.052760</td>\n      <td>0.160000</td>\n      <td>110.200000</td>\n      <td>NaN</td>\n      <td>NaN</td>\n      <td>NaN</td>\n    </tr>\n    <tr>\n      <th>75%</th>\n      <td>2.100000</td>\n      <td>NaN</td>\n      <td>1.656732e+12</td>\n      <td>1.656758e+12</td>\n      <td>NaN</td>\n      <td>NaN</td>\n      <td>NaN</td>\n      <td>16.000000</td>\n      <td>3.800000</td>\n      <td>6.614500</td>\n      <td>...</td>\n      <td>NaN</td>\n      <td>NaN</td>\n      <td>NaN</td>\n      <td>26.000000</td>\n      <td>0.134300</td>\n      <td>0.300000</td>\n      <td>174.000000</td>\n      <td>NaN</td>\n      <td>NaN</td>\n      <td>NaN</td>\n    </tr>\n    <tr>\n      <th>max</th>\n      <td>6.000000</td>\n      <td>NaN</td>\n      <td>1.656806e+12</td>\n      <td>1.656936e+12</td>\n      <td>NaN</td>\n      <td>NaN</td>\n      <td>NaN</td>\n      <td>488.000000</td>\n      <td>6.800000</td>\n      <td>7.408000</td>\n      <td>...</td>\n      <td>NaN</td>\n      <td>NaN</td>\n      <td>NaN</td>\n      <td>364.000000</td>\n      <td>19.147000</td>\n      <td>1.910000</td>\n      <td>347.000000</td>\n      <td>NaN</td>\n      <td>NaN</td>\n      <td>NaN</td>\n    </tr>\n  </tbody>\n</table>\n<p>11 rows × 26 columns</p>\n</div>"
     },
     "execution_count": 31,
     "metadata": {},
     "output_type": "execute_result"
    }
   ],
   "source": [
    "df.describe(include='all')"
   ],
   "metadata": {
    "collapsed": false,
    "pycharm": {
     "name": "#%%\n"
    }
   }
  },
  {
   "cell_type": "code",
   "execution_count": 34,
   "outputs": [
    {
     "data": {
      "text/plain": "0       1.35\n1       1.29\n2       3.42\n3       0.44\n4       2.16\n        ... \n9327    0.62\n9328    1.00\n9329    2.40\n9330    1.10\n9331    0.66\nName: mag, Length: 9332, dtype: float64"
     },
     "execution_count": 34,
     "metadata": {},
     "output_type": "execute_result"
    }
   ],
   "source": [
    "import pandas as pd\n",
    "df = pd.read_csv('data/earthquakes.csv')\n",
    "df.mag\n",
    "\n"
   ],
   "metadata": {
    "collapsed": false,
    "pycharm": {
     "name": "#%%\n"
    }
   }
  },
  {
   "cell_type": "code",
   "execution_count": 35,
   "outputs": [
    {
     "data": {
      "text/plain": "0       1.35\n1       1.29\n2       3.42\n3       0.44\n4       2.16\n        ... \n9327    0.62\n9328    1.00\n9329    2.40\n9330    1.10\n9331    0.66\nName: mag, Length: 9332, dtype: float64"
     },
     "execution_count": 35,
     "metadata": {},
     "output_type": "execute_result"
    }
   ],
   "source": [
    "df['mag']"
   ],
   "metadata": {
    "collapsed": false,
    "pycharm": {
     "name": "#%%\n"
    }
   }
  },
  {
   "cell_type": "code",
   "execution_count": 39,
   "outputs": [
    {
     "data": {
      "text/plain": "       mag                                     title  \\\n0     1.35             M 1.4 - 9km NE of Aguanga, CA   \n1     1.29             M 1.3 - 9km NE of Aguanga, CA   \n2     3.42             M 3.4 - 8km NE of Aguanga, CA   \n3     0.44             M 0.4 - 9km NE of Aguanga, CA   \n4     2.16             M 2.2 - 10km NW of Avenal, CA   \n...    ...                                       ...   \n9327  0.62      M 0.6 - 9km ENE of Mammoth Lakes, CA   \n9328  1.00               M 1.0 - 3km W of Julian, CA   \n9329  2.40  M 2.4 - 35km NNE of Hatillo, Puerto Rico   \n9330  1.10             M 1.1 - 9km NE of Aguanga, CA   \n9331  0.66             M 0.7 - 9km NE of Aguanga, CA   \n\n                                 place  \n0                9km NE of Aguanga, CA  \n1                9km NE of Aguanga, CA  \n2                8km NE of Aguanga, CA  \n3                9km NE of Aguanga, CA  \n4                10km NW of Avenal, CA  \n...                                ...  \n9327      9km ENE of Mammoth Lakes, CA  \n9328               3km W of Julian, CA  \n9329  35km NNE of Hatillo, Puerto Rico  \n9330             9km NE of Aguanga, CA  \n9331             9km NE of Aguanga, CA  \n\n[9332 rows x 3 columns]",
      "text/html": "<div>\n<style scoped>\n    .dataframe tbody tr th:only-of-type {\n        vertical-align: middle;\n    }\n\n    .dataframe tbody tr th {\n        vertical-align: top;\n    }\n\n    .dataframe thead th {\n        text-align: right;\n    }\n</style>\n<table border=\"1\" class=\"dataframe\">\n  <thead>\n    <tr style=\"text-align: right;\">\n      <th></th>\n      <th>mag</th>\n      <th>title</th>\n      <th>place</th>\n    </tr>\n  </thead>\n  <tbody>\n    <tr>\n      <th>0</th>\n      <td>1.35</td>\n      <td>M 1.4 - 9km NE of Aguanga, CA</td>\n      <td>9km NE of Aguanga, CA</td>\n    </tr>\n    <tr>\n      <th>1</th>\n      <td>1.29</td>\n      <td>M 1.3 - 9km NE of Aguanga, CA</td>\n      <td>9km NE of Aguanga, CA</td>\n    </tr>\n    <tr>\n      <th>2</th>\n      <td>3.42</td>\n      <td>M 3.4 - 8km NE of Aguanga, CA</td>\n      <td>8km NE of Aguanga, CA</td>\n    </tr>\n    <tr>\n      <th>3</th>\n      <td>0.44</td>\n      <td>M 0.4 - 9km NE of Aguanga, CA</td>\n      <td>9km NE of Aguanga, CA</td>\n    </tr>\n    <tr>\n      <th>4</th>\n      <td>2.16</td>\n      <td>M 2.2 - 10km NW of Avenal, CA</td>\n      <td>10km NW of Avenal, CA</td>\n    </tr>\n    <tr>\n      <th>...</th>\n      <td>...</td>\n      <td>...</td>\n      <td>...</td>\n    </tr>\n    <tr>\n      <th>9327</th>\n      <td>0.62</td>\n      <td>M 0.6 - 9km ENE of Mammoth Lakes, CA</td>\n      <td>9km ENE of Mammoth Lakes, CA</td>\n    </tr>\n    <tr>\n      <th>9328</th>\n      <td>1.00</td>\n      <td>M 1.0 - 3km W of Julian, CA</td>\n      <td>3km W of Julian, CA</td>\n    </tr>\n    <tr>\n      <th>9329</th>\n      <td>2.40</td>\n      <td>M 2.4 - 35km NNE of Hatillo, Puerto Rico</td>\n      <td>35km NNE of Hatillo, Puerto Rico</td>\n    </tr>\n    <tr>\n      <th>9330</th>\n      <td>1.10</td>\n      <td>M 1.1 - 9km NE of Aguanga, CA</td>\n      <td>9km NE of Aguanga, CA</td>\n    </tr>\n    <tr>\n      <th>9331</th>\n      <td>0.66</td>\n      <td>M 0.7 - 9km NE of Aguanga, CA</td>\n      <td>9km NE of Aguanga, CA</td>\n    </tr>\n  </tbody>\n</table>\n<p>9332 rows × 3 columns</p>\n</div>"
     },
     "execution_count": 39,
     "metadata": {},
     "output_type": "execute_result"
    }
   ],
   "source": [
    "df[['mag', 'title', 'place']]"
   ],
   "metadata": {
    "collapsed": false,
    "pycharm": {
     "name": "#%%\n"
    }
   }
  },
  {
   "cell_type": "code",
   "execution_count": 41,
   "outputs": [
    {
     "name": "stdout",
     "output_type": "stream",
     "text": [
      "       mag                                     title  \\\n",
      "0     1.35             M 1.4 - 9km NE of Aguanga, CA   \n",
      "1     1.29             M 1.3 - 9km NE of Aguanga, CA   \n",
      "2     3.42             M 3.4 - 8km NE of Aguanga, CA   \n",
      "3     0.44             M 0.4 - 9km NE of Aguanga, CA   \n",
      "4     2.16             M 2.2 - 10km NW of Avenal, CA   \n",
      "...    ...                                       ...   \n",
      "9327  0.62      M 0.6 - 9km ENE of Mammoth Lakes, CA   \n",
      "9328  1.00               M 1.0 - 3km W of Julian, CA   \n",
      "9329  2.40  M 2.4 - 35km NNE of Hatillo, Puerto Rico   \n",
      "9330  1.10             M 1.1 - 9km NE of Aguanga, CA   \n",
      "9331  0.66             M 0.7 - 9km NE of Aguanga, CA   \n",
      "\n",
      "                                 place  \n",
      "0                9km NE of Aguanga, CA  \n",
      "1                9km NE of Aguanga, CA  \n",
      "2                8km NE of Aguanga, CA  \n",
      "3                9km NE of Aguanga, CA  \n",
      "4                10km NW of Avenal, CA  \n",
      "...                                ...  \n",
      "9327      9km ENE of Mammoth Lakes, CA  \n",
      "9328               3km W of Julian, CA  \n",
      "9329  35km NNE of Hatillo, Puerto Rico  \n",
      "9330             9km NE of Aguanga, CA  \n",
      "9331             9km NE of Aguanga, CA  \n",
      "\n",
      "[9332 rows x 3 columns]\n"
     ]
    }
   ],
   "source": [
    "print(df[['mag', 'title', 'place']])"
   ],
   "metadata": {
    "collapsed": false,
    "pycharm": {
     "name": "#%%\n"
    }
   }
  },
  {
   "cell_type": "code",
   "execution_count": 42,
   "outputs": [
    {
     "data": {
      "text/plain": "    alert  cdi      code                                             detail  \\\n100   NaN  NaN  20280310  https://earthquake.usgs.gov/fdsnws/event/1/que...   \n101   NaN  NaN  73096756  https://earthquake.usgs.gov/fdsnws/event/1/que...   \n102   NaN  NaN  37388730  https://earthquake.usgs.gov/fdsnws/event/1/que...   \n\n        dmin  felt    gap           ids   mag magType  ...  sources  \\\n100      NaN   NaN    NaN  ,ak20280310,  1.20      ml  ...     ,ak,   \n101  0.01355   NaN  185.0  ,nc73096756,  0.59      md  ...     ,nc,   \n102  0.02987   NaN   39.0  ,ci37388730,  1.33      ml  ...     ,ci,   \n\n        status           time                                 title  tsunami  \\\n100  automatic  1539435449480      M 1.2 - 25km NW of Ester, Alaska        0   \n101  automatic  1539435391320  M 0.6 - 8km ESE of Mammoth Lakes, CA        0   \n102  automatic  1539435293090        M 1.3 - 8km ENE of Aguanga, CA        0   \n\n           type                                              types     tz  \\\n100  earthquake                                  ,geoserve,origin, -540.0   \n101  earthquake  ,geoserve,nearby-cities,origin,phase-data,scit... -480.0   \n102  earthquake  ,focal-mechanism,geoserve,nearby-cities,origin... -480.0   \n\n           updated                                                url  \n100  1539443551010  https://earthquake.usgs.gov/earthquakes/eventp...  \n101  1539439802162  https://earthquake.usgs.gov/earthquakes/eventp...  \n102  1539435940470  https://earthquake.usgs.gov/earthquakes/eventp...  \n\n[3 rows x 26 columns]",
      "text/html": "<div>\n<style scoped>\n    .dataframe tbody tr th:only-of-type {\n        vertical-align: middle;\n    }\n\n    .dataframe tbody tr th {\n        vertical-align: top;\n    }\n\n    .dataframe thead th {\n        text-align: right;\n    }\n</style>\n<table border=\"1\" class=\"dataframe\">\n  <thead>\n    <tr style=\"text-align: right;\">\n      <th></th>\n      <th>alert</th>\n      <th>cdi</th>\n      <th>code</th>\n      <th>detail</th>\n      <th>dmin</th>\n      <th>felt</th>\n      <th>gap</th>\n      <th>ids</th>\n      <th>mag</th>\n      <th>magType</th>\n      <th>...</th>\n      <th>sources</th>\n      <th>status</th>\n      <th>time</th>\n      <th>title</th>\n      <th>tsunami</th>\n      <th>type</th>\n      <th>types</th>\n      <th>tz</th>\n      <th>updated</th>\n      <th>url</th>\n    </tr>\n  </thead>\n  <tbody>\n    <tr>\n      <th>100</th>\n      <td>NaN</td>\n      <td>NaN</td>\n      <td>20280310</td>\n      <td>https://earthquake.usgs.gov/fdsnws/event/1/que...</td>\n      <td>NaN</td>\n      <td>NaN</td>\n      <td>NaN</td>\n      <td>,ak20280310,</td>\n      <td>1.20</td>\n      <td>ml</td>\n      <td>...</td>\n      <td>,ak,</td>\n      <td>automatic</td>\n      <td>1539435449480</td>\n      <td>M 1.2 - 25km NW of Ester, Alaska</td>\n      <td>0</td>\n      <td>earthquake</td>\n      <td>,geoserve,origin,</td>\n      <td>-540.0</td>\n      <td>1539443551010</td>\n      <td>https://earthquake.usgs.gov/earthquakes/eventp...</td>\n    </tr>\n    <tr>\n      <th>101</th>\n      <td>NaN</td>\n      <td>NaN</td>\n      <td>73096756</td>\n      <td>https://earthquake.usgs.gov/fdsnws/event/1/que...</td>\n      <td>0.01355</td>\n      <td>NaN</td>\n      <td>185.0</td>\n      <td>,nc73096756,</td>\n      <td>0.59</td>\n      <td>md</td>\n      <td>...</td>\n      <td>,nc,</td>\n      <td>automatic</td>\n      <td>1539435391320</td>\n      <td>M 0.6 - 8km ESE of Mammoth Lakes, CA</td>\n      <td>0</td>\n      <td>earthquake</td>\n      <td>,geoserve,nearby-cities,origin,phase-data,scit...</td>\n      <td>-480.0</td>\n      <td>1539439802162</td>\n      <td>https://earthquake.usgs.gov/earthquakes/eventp...</td>\n    </tr>\n    <tr>\n      <th>102</th>\n      <td>NaN</td>\n      <td>NaN</td>\n      <td>37388730</td>\n      <td>https://earthquake.usgs.gov/fdsnws/event/1/que...</td>\n      <td>0.02987</td>\n      <td>NaN</td>\n      <td>39.0</td>\n      <td>,ci37388730,</td>\n      <td>1.33</td>\n      <td>ml</td>\n      <td>...</td>\n      <td>,ci,</td>\n      <td>automatic</td>\n      <td>1539435293090</td>\n      <td>M 1.3 - 8km ENE of Aguanga, CA</td>\n      <td>0</td>\n      <td>earthquake</td>\n      <td>,focal-mechanism,geoserve,nearby-cities,origin...</td>\n      <td>-480.0</td>\n      <td>1539435940470</td>\n      <td>https://earthquake.usgs.gov/earthquakes/eventp...</td>\n    </tr>\n  </tbody>\n</table>\n<p>3 rows × 26 columns</p>\n</div>"
     },
     "execution_count": 42,
     "metadata": {},
     "output_type": "execute_result"
    }
   ],
   "source": [
    "df[100:103]"
   ],
   "metadata": {
    "collapsed": false,
    "pycharm": {
     "name": "#%%\n"
    }
   }
  },
  {
   "cell_type": "code",
   "execution_count": 43,
   "outputs": [
    {
     "data": {
      "text/plain": "                                    title           time   mag magType\n100      M 1.2 - 25km NW of Ester, Alaska  1539435449480  1.20      ml\n101  M 0.6 - 8km ESE of Mammoth Lakes, CA  1539435391320  0.59      md\n102        M 1.3 - 8km ENE of Aguanga, CA  1539435293090  1.33      ml",
      "text/html": "<div>\n<style scoped>\n    .dataframe tbody tr th:only-of-type {\n        vertical-align: middle;\n    }\n\n    .dataframe tbody tr th {\n        vertical-align: top;\n    }\n\n    .dataframe thead th {\n        text-align: right;\n    }\n</style>\n<table border=\"1\" class=\"dataframe\">\n  <thead>\n    <tr style=\"text-align: right;\">\n      <th></th>\n      <th>title</th>\n      <th>time</th>\n      <th>mag</th>\n      <th>magType</th>\n    </tr>\n  </thead>\n  <tbody>\n    <tr>\n      <th>100</th>\n      <td>M 1.2 - 25km NW of Ester, Alaska</td>\n      <td>1539435449480</td>\n      <td>1.20</td>\n      <td>ml</td>\n    </tr>\n    <tr>\n      <th>101</th>\n      <td>M 0.6 - 8km ESE of Mammoth Lakes, CA</td>\n      <td>1539435391320</td>\n      <td>0.59</td>\n      <td>md</td>\n    </tr>\n    <tr>\n      <th>102</th>\n      <td>M 1.3 - 8km ENE of Aguanga, CA</td>\n      <td>1539435293090</td>\n      <td>1.33</td>\n      <td>ml</td>\n    </tr>\n  </tbody>\n</table>\n</div>"
     },
     "execution_count": 43,
     "metadata": {},
     "output_type": "execute_result"
    }
   ],
   "source": [
    "df[['title', 'time', 'mag', 'magType']][100:103]"
   ],
   "metadata": {
    "collapsed": false,
    "pycharm": {
     "name": "#%%\n"
    }
   }
  },
  {
   "cell_type": "code",
   "execution_count": 44,
   "outputs": [
    {
     "name": "stderr",
     "output_type": "stream",
     "text": [
      "C:\\Users\\Kiki Mulyadi\\AppData\\Local\\Temp\\ipykernel_2212\\143993152.py:1: SettingWithCopyWarning: \n",
      "A value is trying to be set on a copy of a slice from a DataFrame.\n",
      "Try using .loc[row_indexer,col_indexer] = value instead\n",
      "\n",
      "See the caveats in the documentation: https://pandas.pydata.org/pandas-docs/stable/user_guide/indexing.html#returning-a-view-versus-a-copy\n",
      "  df[110:113]['title'] = df[110:113]['title'].str.lower()\n"
     ]
    }
   ],
   "source": [
    "df[110:113]['title'] = df[110:113]['title'].str.lower()"
   ],
   "metadata": {
    "collapsed": false,
    "pycharm": {
     "name": "#%%\n"
    }
   }
  },
  {
   "cell_type": "code",
   "execution_count": 47,
   "outputs": [],
   "source": [
    " df.loc[110:112, 'title'] = df.loc[110:112, 'title'].str.lower()"
   ],
   "metadata": {
    "collapsed": false,
    "pycharm": {
     "name": "#%%\n"
    }
   }
  },
  {
   "cell_type": "code",
   "execution_count": 49,
   "outputs": [
    {
     "data": {
      "text/plain": "110               m 1.1 - 35km s of ester, alaska\n111    m 1.9 - 93km wnw of arctic village, alaska\n112      m 0.9 - 20km wsw of smith valley, nevada\nName: title, dtype: object"
     },
     "execution_count": 49,
     "metadata": {},
     "output_type": "execute_result"
    }
   ],
   "source": [
    " df.loc[110:112, 'title']"
   ],
   "metadata": {
    "collapsed": false,
    "pycharm": {
     "name": "#%%\n"
    }
   }
  },
  {
   "cell_type": "code",
   "execution_count": 50,
   "outputs": [
    {
     "data": {
      "text/plain": "0                  M 1.4 - 9km NE of Aguanga, CA\n1                  M 1.3 - 9km NE of Aguanga, CA\n2                  M 3.4 - 8km NE of Aguanga, CA\n3                  M 0.4 - 9km NE of Aguanga, CA\n4                  M 2.2 - 10km NW of Avenal, CA\n                          ...                   \n9327        M 0.6 - 9km ENE of Mammoth Lakes, CA\n9328                 M 1.0 - 3km W of Julian, CA\n9329    M 2.4 - 35km NNE of Hatillo, Puerto Rico\n9330               M 1.1 - 9km NE of Aguanga, CA\n9331               M 0.7 - 9km NE of Aguanga, CA\nName: title, Length: 9332, dtype: object"
     },
     "execution_count": 50,
     "metadata": {},
     "output_type": "execute_result"
    }
   ],
   "source": [
    " df.loc[:, 'title']"
   ],
   "metadata": {
    "collapsed": false,
    "pycharm": {
     "name": "#%%\n"
    }
   }
  },
  {
   "cell_type": "code",
   "execution_count": 51,
   "outputs": [
    {
     "data": {
      "text/plain": "                                                title   mag\n10                     M 0.5 - 10km NE of Aguanga, CA  0.50\n11  M 2.8 - 53km SE of Punta Cana, Dominican Republic  2.77\n12                      M 0.5 - 9km NE of Aguanga, CA  0.50\n13         M 4.5 - 120km SSW of Banda Aceh, Indonesia  4.50\n14                   M 2.1 - 14km NW of Parkfield, CA  2.13",
      "text/html": "<div>\n<style scoped>\n    .dataframe tbody tr th:only-of-type {\n        vertical-align: middle;\n    }\n\n    .dataframe tbody tr th {\n        vertical-align: top;\n    }\n\n    .dataframe thead th {\n        text-align: right;\n    }\n</style>\n<table border=\"1\" class=\"dataframe\">\n  <thead>\n    <tr style=\"text-align: right;\">\n      <th></th>\n      <th>title</th>\n      <th>mag</th>\n    </tr>\n  </thead>\n  <tbody>\n    <tr>\n      <th>10</th>\n      <td>M 0.5 - 10km NE of Aguanga, CA</td>\n      <td>0.50</td>\n    </tr>\n    <tr>\n      <th>11</th>\n      <td>M 2.8 - 53km SE of Punta Cana, Dominican Republic</td>\n      <td>2.77</td>\n    </tr>\n    <tr>\n      <th>12</th>\n      <td>M 0.5 - 9km NE of Aguanga, CA</td>\n      <td>0.50</td>\n    </tr>\n    <tr>\n      <th>13</th>\n      <td>M 4.5 - 120km SSW of Banda Aceh, Indonesia</td>\n      <td>4.50</td>\n    </tr>\n    <tr>\n      <th>14</th>\n      <td>M 2.1 - 14km NW of Parkfield, CA</td>\n      <td>2.13</td>\n    </tr>\n  </tbody>\n</table>\n</div>"
     },
     "execution_count": 51,
     "metadata": {},
     "output_type": "execute_result"
    }
   ],
   "source": [
    "df.iloc[10:15,[19,8]]"
   ],
   "metadata": {
    "collapsed": false,
    "pycharm": {
     "name": "#%%\n"
    }
   }
  },
  {
   "cell_type": "code",
   "execution_count": 52,
   "outputs": [
    {
     "data": {
      "text/plain": "      gap             ids   mag magType\n10   57.0    ,ci37389162,  0.50      ml\n11  186.0  ,pr2018286010,  2.77      md\n12   76.0    ,ci37389146,  0.50      ml\n13  157.0    ,us1000hbti,  4.50      mb\n14   71.0    ,nc73096921,  2.13      md",
      "text/html": "<div>\n<style scoped>\n    .dataframe tbody tr th:only-of-type {\n        vertical-align: middle;\n    }\n\n    .dataframe tbody tr th {\n        vertical-align: top;\n    }\n\n    .dataframe thead th {\n        text-align: right;\n    }\n</style>\n<table border=\"1\" class=\"dataframe\">\n  <thead>\n    <tr style=\"text-align: right;\">\n      <th></th>\n      <th>gap</th>\n      <th>ids</th>\n      <th>mag</th>\n      <th>magType</th>\n    </tr>\n  </thead>\n  <tbody>\n    <tr>\n      <th>10</th>\n      <td>57.0</td>\n      <td>,ci37389162,</td>\n      <td>0.50</td>\n      <td>ml</td>\n    </tr>\n    <tr>\n      <th>11</th>\n      <td>186.0</td>\n      <td>,pr2018286010,</td>\n      <td>2.77</td>\n      <td>md</td>\n    </tr>\n    <tr>\n      <th>12</th>\n      <td>76.0</td>\n      <td>,ci37389146,</td>\n      <td>0.50</td>\n      <td>ml</td>\n    </tr>\n    <tr>\n      <th>13</th>\n      <td>157.0</td>\n      <td>,us1000hbti,</td>\n      <td>4.50</td>\n      <td>mb</td>\n    </tr>\n    <tr>\n      <th>14</th>\n      <td>71.0</td>\n      <td>,nc73096921,</td>\n      <td>2.13</td>\n      <td>md</td>\n    </tr>\n  </tbody>\n</table>\n</div>"
     },
     "execution_count": 52,
     "metadata": {},
     "output_type": "execute_result"
    }
   ],
   "source": [
    "df.iloc[10:15, 6:10]"
   ],
   "metadata": {
    "collapsed": false,
    "pycharm": {
     "name": "#%%\n"
    }
   }
  },
  {
   "cell_type": "code",
   "execution_count": null,
   "outputs": [],
   "source": [],
   "metadata": {
    "collapsed": false,
    "pycharm": {
     "name": "#%%\n"
    }
   }
  },
  {
   "cell_type": "code",
   "execution_count": null,
   "outputs": [],
   "source": [],
   "metadata": {
    "collapsed": false,
    "pycharm": {
     "name": "#%%\n"
    }
   }
  },
  {
   "cell_type": "code",
   "execution_count": null,
   "outputs": [],
   "source": [],
   "metadata": {
    "collapsed": false,
    "pycharm": {
     "name": "#%%\n"
    }
   }
  },
  {
   "cell_type": "code",
   "execution_count": null,
   "outputs": [],
   "source": [],
   "metadata": {
    "collapsed": false,
    "pycharm": {
     "name": "#%%\n"
    }
   }
  },
  {
   "cell_type": "code",
   "execution_count": null,
   "outputs": [],
   "source": [],
   "metadata": {
    "collapsed": false,
    "pycharm": {
     "name": "#%%\n"
    }
   }
  }
 ],
 "metadata": {
  "kernelspec": {
   "display_name": "Python 3",
   "language": "python",
   "name": "python3"
  },
  "language_info": {
   "codemirror_mode": {
    "name": "ipython",
    "version": 2
   },
   "file_extension": ".py",
   "mimetype": "text/x-python",
   "name": "python",
   "nbconvert_exporter": "python",
   "pygments_lexer": "ipython2",
   "version": "2.7.6"
  }
 },
 "nbformat": 4,
 "nbformat_minor": 0
}