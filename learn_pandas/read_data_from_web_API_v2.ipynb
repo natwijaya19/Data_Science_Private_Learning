{
 "cells": [
  {
   "cell_type": "code",
   "execution_count": 1,
   "metadata": {
    "collapsed": true,
    "pycharm": {
     "name": "#%%\n"
    }
   },
   "outputs": [],
   "source": [
    "import pandas as pd\n",
    "df = pd.read_csv('data/earthquakes.csv')"
   ]
  },
  {
   "cell_type": "code",
   "execution_count": 4,
   "outputs": [
    {
     "data": {
      "text/plain": "      gap             ids   mag magType  mmi\n10   57.0    ,ci37389162,  0.50      ml  NaN\n11  186.0  ,pr2018286010,  2.77      md  NaN\n12   76.0    ,ci37389146,  0.50      ml  NaN\n13  157.0    ,us1000hbti,  4.50      mb  NaN\n14   71.0    ,nc73096921,  2.13      md  NaN",
      "text/html": "<div>\n<style scoped>\n    .dataframe tbody tr th:only-of-type {\n        vertical-align: middle;\n    }\n\n    .dataframe tbody tr th {\n        vertical-align: top;\n    }\n\n    .dataframe thead th {\n        text-align: right;\n    }\n</style>\n<table border=\"1\" class=\"dataframe\">\n  <thead>\n    <tr style=\"text-align: right;\">\n      <th></th>\n      <th>gap</th>\n      <th>ids</th>\n      <th>mag</th>\n      <th>magType</th>\n      <th>mmi</th>\n    </tr>\n  </thead>\n  <tbody>\n    <tr>\n      <th>10</th>\n      <td>57.0</td>\n      <td>,ci37389162,</td>\n      <td>0.50</td>\n      <td>ml</td>\n      <td>NaN</td>\n    </tr>\n    <tr>\n      <th>11</th>\n      <td>186.0</td>\n      <td>,pr2018286010,</td>\n      <td>2.77</td>\n      <td>md</td>\n      <td>NaN</td>\n    </tr>\n    <tr>\n      <th>12</th>\n      <td>76.0</td>\n      <td>,ci37389146,</td>\n      <td>0.50</td>\n      <td>ml</td>\n      <td>NaN</td>\n    </tr>\n    <tr>\n      <th>13</th>\n      <td>157.0</td>\n      <td>,us1000hbti,</td>\n      <td>4.50</td>\n      <td>mb</td>\n      <td>NaN</td>\n    </tr>\n    <tr>\n      <th>14</th>\n      <td>71.0</td>\n      <td>,nc73096921,</td>\n      <td>2.13</td>\n      <td>md</td>\n      <td>NaN</td>\n    </tr>\n  </tbody>\n</table>\n</div>"
     },
     "execution_count": 4,
     "metadata": {},
     "output_type": "execute_result"
    }
   ],
   "source": [
    "df.iloc[10:15,6:11]"
   ],
   "metadata": {
    "collapsed": false,
    "pycharm": {
     "name": "#%%\n"
    }
   }
  },
  {
   "cell_type": "code",
   "execution_count": 6,
   "outputs": [
    {
     "data": {
      "text/plain": "alert      1\ncdi        1\nupdated    1\ntz         1\ntypes      1\ntype       1\ntsunami    1\ntitle      1\ntime       1\nstatus     1\nsources    1\nsig        1\nrms        1\nplace      1\nnst        1\nnet        1\nmmi        1\nmagType    1\nmag        1\nids        1\ngap        1\nfelt       1\ndmin       1\ndetail     1\ncode       1\nurl        1\ndtype: int64"
     },
     "execution_count": 6,
     "metadata": {},
     "output_type": "execute_result"
    }
   ],
   "source": [
    "df.columns.value_counts()"
   ],
   "metadata": {
    "collapsed": false,
    "pycharm": {
     "name": "#%%\n"
    }
   }
  },
  {
   "cell_type": "code",
   "execution_count": 12,
   "outputs": [
    {
     "data": {
      "text/plain": "26"
     },
     "execution_count": 12,
     "metadata": {},
     "output_type": "execute_result"
    }
   ],
   "source": [
    "len(df.columns)"
   ],
   "metadata": {
    "collapsed": false,
    "pycharm": {
     "name": "#%%\n"
    }
   }
  },
  {
   "cell_type": "code",
   "execution_count": 13,
   "outputs": [
    {
     "data": {
      "text/plain": "True"
     },
     "execution_count": 13,
     "metadata": {},
     "output_type": "execute_result"
    }
   ],
   "source": [
    "df.iloc[10:15,6:10].equals(df.loc[10:14,'gap':'magType'])"
   ],
   "metadata": {
    "collapsed": false,
    "pycharm": {
     "name": "#%%\n"
    }
   }
  },
  {
   "cell_type": "code",
   "execution_count": 15,
   "outputs": [
    {
     "data": {
      "text/plain": "0.5"
     },
     "execution_count": 15,
     "metadata": {},
     "output_type": "execute_result"
    }
   ],
   "source": [
    "df.loc[10,'mag']"
   ],
   "metadata": {
    "collapsed": false,
    "pycharm": {
     "name": "#%%\n"
    }
   }
  },
  {
   "cell_type": "code",
   "execution_count": 16,
   "outputs": [
    {
     "data": {
      "text/plain": "0.5"
     },
     "execution_count": 16,
     "metadata": {},
     "output_type": "execute_result"
    }
   ],
   "source": [
    "df.at[10,'mag']"
   ],
   "metadata": {
    "collapsed": false,
    "pycharm": {
     "name": "#%%\n"
    }
   }
  },
  {
   "cell_type": "code",
   "execution_count": 20,
   "outputs": [
    {
     "data": {
      "text/plain": "      alert  cdi      code                                             detail  \\\n118   green  NaN  1000hbkz  https://earthquake.usgs.gov/fdsnws/event/1/que...   \n799   green  NaN  1000hacw  https://earthquake.usgs.gov/fdsnws/event/1/que...   \n816   green  NaN  1000habl  https://earthquake.usgs.gov/fdsnws/event/1/que...   \n837   green  4.1  1000haa3  https://earthquake.usgs.gov/fdsnws/event/1/que...   \n838   green  NaN  1000ha9t  https://earthquake.usgs.gov/fdsnws/event/1/que...   \n862   green  4.3  1000ha6q  https://earthquake.usgs.gov/fdsnws/event/1/que...   \n1267  green  NaN  1000h97j  https://earthquake.usgs.gov/fdsnws/event/1/que...   \n3699  green  NaN  1000h5eg  https://earthquake.usgs.gov/fdsnws/event/1/que...   \n4363  green  2.2  1000h4l1  https://earthquake.usgs.gov/fdsnws/event/1/que...   \n5263    red  8.4  1000h3p4  https://earthquake.usgs.gov/fdsnws/event/1/que...   \n5323  green  NaN  1000h3mf  https://earthquake.usgs.gov/fdsnws/event/1/que...   \n9211  green  NaN  2000hg93  https://earthquake.usgs.gov/fdsnws/event/1/que...   \n\n       dmin   felt   gap                                 ids  mag magType  \\\n118   2.623    NaN  25.0  ,pt18286001,at00pgjb1a,us1000hbkz,  6.7     mww   \n799   3.879    NaN  18.0  ,pt18283004,at00pgeomo,us1000hacw,  6.5     mww   \n816   0.907    NaN  12.0                        ,us1000habl,  6.2     mww   \n837   1.763    3.0  14.0  ,us1000haa3,pt18283003,at00pgehsk,  7.0     mww   \n838   1.757    NaN  18.0                        ,us1000ha9t,  6.1      mb   \n862   1.051  170.0  27.0                        ,us1000ha6q,  6.0     mww   \n1267  3.806    NaN  92.0                        ,us1000h97j,  6.0     mww   \n3699  2.715    NaN  46.0                        ,us1000h5eg,  6.0     mww   \n4363  3.728    1.0  23.0  ,at00pfv7ja,us1000h4l1,pt18273000,  6.7     mww   \n5263  1.589   18.0  27.0             ,us1000h3p4,us1000h4p4,  7.5     mww   \n5323  1.812    NaN  33.0                        ,us1000h3mf,  6.1     mww   \n9211  8.749    NaN  22.0                        ,us2000hg93,  6.0     mww   \n\n      ...     sources    status           time  \\\n118   ...  ,pt,at,us,  reviewed  1539429023560   \n799   ...  ,pt,at,us,  reviewed  1539213362130   \n816   ...        ,us,  reviewed  1539208835130   \n837   ...  ,us,pt,at,  reviewed  1539204500290   \n838   ...        ,us,  reviewed  1539204326420   \n862   ...        ,us,  reviewed  1539197095310   \n1267  ...        ,us,  reviewed  1539071114670   \n3699  ...        ,us,  reviewed  1538438383070   \n4363  ...  ,at,us,pt,  reviewed  1538304744240   \n5263  ...     ,us,us,  reviewed  1538128963480   \n5323  ...        ,us,  reviewed  1538118001950   \n9211  ...        ,us,  reviewed  1537255661330   \n\n                                            title  tsunami        type  \\\n118       M 6.7 - 262km NW of Ozernovskiy, Russia        1  earthquake   \n799    M 6.5 - 148km S of Severo-Kuril'sk, Russia        1  earthquake   \n816   M 6.2 - 94km SW of Kokopo, Papua New Guinea        1  earthquake   \n837    M 7.0 - 117km E of Kimbe, Papua New Guinea        1  earthquake   \n838    M 6.1 - 132km E of Kimbe, Papua New Guinea        1  earthquake   \n862    M 6.0 - 39km NNE of Sumberanyar, Indonesia        0  earthquake   \n1267   M 6.0 - 138km S of Severo-Kuril'sk, Russia        0  earthquake   \n3699    M 6.0 - 33km S of Nggongi Satu, Indonesia        1  earthquake   \n4363       M 6.7 - 263km NNE of Ndoi Island, Fiji        1  earthquake   \n5263            M 7.5 - 78km N of Palu, Indonesia        1  earthquake   \n5323          M 6.1 - 55km NNW of Palu, Indonesia        1  earthquake   \n9211               M 6.0 - Southwest Indian Ridge        0  earthquake   \n\n                                                  types     tz        updated  \\\n118   ,geoserve,ground-failure,impact-link,losspager...  600.0  1539455437040   \n799   ,geoserve,ground-failure,impact-link,losspager...  600.0  1539224915040   \n816   ,geoserve,ground-failure,losspager,moment-tens...  600.0  1539219109963   \n837   ,dyfi,finite-fault,general-text,geoserve,groun...  600.0  1539378744253   \n838   ,geoserve,ground-failure,losspager,origin,phas...  600.0  1539217505598   \n862   ,dyfi,geoserve,ground-failure,losspager,moment...  480.0  1539515759040   \n1267  ,geoserve,ground-failure,losspager,moment-tens...  600.0  1539213313361   \n3699  ,geoserve,ground-failure,losspager,moment-tens...  480.0  1538457423108   \n4363  ,dyfi,geoserve,impact-link,losspager,moment-te... -720.0  1539348741510   \n5263  ,dyfi,finite-fault,general-text,geoserve,groun...  480.0  1539123134531   \n5323  ,geoserve,ground-failure,losspager,moment-tens...  480.0  1538158590933   \n9211  ,geoserve,losspager,moment-tensor,origin,phase...  180.0  1538206958458   \n\n                                                    url  \n118   https://earthquake.usgs.gov/earthquakes/eventp...  \n799   https://earthquake.usgs.gov/earthquakes/eventp...  \n816   https://earthquake.usgs.gov/earthquakes/eventp...  \n837   https://earthquake.usgs.gov/earthquakes/eventp...  \n838   https://earthquake.usgs.gov/earthquakes/eventp...  \n862   https://earthquake.usgs.gov/earthquakes/eventp...  \n1267  https://earthquake.usgs.gov/earthquakes/eventp...  \n3699  https://earthquake.usgs.gov/earthquakes/eventp...  \n4363  https://earthquake.usgs.gov/earthquakes/eventp...  \n5263  https://earthquake.usgs.gov/earthquakes/eventp...  \n5323  https://earthquake.usgs.gov/earthquakes/eventp...  \n9211  https://earthquake.usgs.gov/earthquakes/eventp...  \n\n[12 rows x 26 columns]",
      "text/html": "<div>\n<style scoped>\n    .dataframe tbody tr th:only-of-type {\n        vertical-align: middle;\n    }\n\n    .dataframe tbody tr th {\n        vertical-align: top;\n    }\n\n    .dataframe thead th {\n        text-align: right;\n    }\n</style>\n<table border=\"1\" class=\"dataframe\">\n  <thead>\n    <tr style=\"text-align: right;\">\n      <th></th>\n      <th>alert</th>\n      <th>cdi</th>\n      <th>code</th>\n      <th>detail</th>\n      <th>dmin</th>\n      <th>felt</th>\n      <th>gap</th>\n      <th>ids</th>\n      <th>mag</th>\n      <th>magType</th>\n      <th>...</th>\n      <th>sources</th>\n      <th>status</th>\n      <th>time</th>\n      <th>title</th>\n      <th>tsunami</th>\n      <th>type</th>\n      <th>types</th>\n      <th>tz</th>\n      <th>updated</th>\n      <th>url</th>\n    </tr>\n  </thead>\n  <tbody>\n    <tr>\n      <th>118</th>\n      <td>green</td>\n      <td>NaN</td>\n      <td>1000hbkz</td>\n      <td>https://earthquake.usgs.gov/fdsnws/event/1/que...</td>\n      <td>2.623</td>\n      <td>NaN</td>\n      <td>25.0</td>\n      <td>,pt18286001,at00pgjb1a,us1000hbkz,</td>\n      <td>6.7</td>\n      <td>mww</td>\n      <td>...</td>\n      <td>,pt,at,us,</td>\n      <td>reviewed</td>\n      <td>1539429023560</td>\n      <td>M 6.7 - 262km NW of Ozernovskiy, Russia</td>\n      <td>1</td>\n      <td>earthquake</td>\n      <td>,geoserve,ground-failure,impact-link,losspager...</td>\n      <td>600.0</td>\n      <td>1539455437040</td>\n      <td>https://earthquake.usgs.gov/earthquakes/eventp...</td>\n    </tr>\n    <tr>\n      <th>799</th>\n      <td>green</td>\n      <td>NaN</td>\n      <td>1000hacw</td>\n      <td>https://earthquake.usgs.gov/fdsnws/event/1/que...</td>\n      <td>3.879</td>\n      <td>NaN</td>\n      <td>18.0</td>\n      <td>,pt18283004,at00pgeomo,us1000hacw,</td>\n      <td>6.5</td>\n      <td>mww</td>\n      <td>...</td>\n      <td>,pt,at,us,</td>\n      <td>reviewed</td>\n      <td>1539213362130</td>\n      <td>M 6.5 - 148km S of Severo-Kuril'sk, Russia</td>\n      <td>1</td>\n      <td>earthquake</td>\n      <td>,geoserve,ground-failure,impact-link,losspager...</td>\n      <td>600.0</td>\n      <td>1539224915040</td>\n      <td>https://earthquake.usgs.gov/earthquakes/eventp...</td>\n    </tr>\n    <tr>\n      <th>816</th>\n      <td>green</td>\n      <td>NaN</td>\n      <td>1000habl</td>\n      <td>https://earthquake.usgs.gov/fdsnws/event/1/que...</td>\n      <td>0.907</td>\n      <td>NaN</td>\n      <td>12.0</td>\n      <td>,us1000habl,</td>\n      <td>6.2</td>\n      <td>mww</td>\n      <td>...</td>\n      <td>,us,</td>\n      <td>reviewed</td>\n      <td>1539208835130</td>\n      <td>M 6.2 - 94km SW of Kokopo, Papua New Guinea</td>\n      <td>1</td>\n      <td>earthquake</td>\n      <td>,geoserve,ground-failure,losspager,moment-tens...</td>\n      <td>600.0</td>\n      <td>1539219109963</td>\n      <td>https://earthquake.usgs.gov/earthquakes/eventp...</td>\n    </tr>\n    <tr>\n      <th>837</th>\n      <td>green</td>\n      <td>4.1</td>\n      <td>1000haa3</td>\n      <td>https://earthquake.usgs.gov/fdsnws/event/1/que...</td>\n      <td>1.763</td>\n      <td>3.0</td>\n      <td>14.0</td>\n      <td>,us1000haa3,pt18283003,at00pgehsk,</td>\n      <td>7.0</td>\n      <td>mww</td>\n      <td>...</td>\n      <td>,us,pt,at,</td>\n      <td>reviewed</td>\n      <td>1539204500290</td>\n      <td>M 7.0 - 117km E of Kimbe, Papua New Guinea</td>\n      <td>1</td>\n      <td>earthquake</td>\n      <td>,dyfi,finite-fault,general-text,geoserve,groun...</td>\n      <td>600.0</td>\n      <td>1539378744253</td>\n      <td>https://earthquake.usgs.gov/earthquakes/eventp...</td>\n    </tr>\n    <tr>\n      <th>838</th>\n      <td>green</td>\n      <td>NaN</td>\n      <td>1000ha9t</td>\n      <td>https://earthquake.usgs.gov/fdsnws/event/1/que...</td>\n      <td>1.757</td>\n      <td>NaN</td>\n      <td>18.0</td>\n      <td>,us1000ha9t,</td>\n      <td>6.1</td>\n      <td>mb</td>\n      <td>...</td>\n      <td>,us,</td>\n      <td>reviewed</td>\n      <td>1539204326420</td>\n      <td>M 6.1 - 132km E of Kimbe, Papua New Guinea</td>\n      <td>1</td>\n      <td>earthquake</td>\n      <td>,geoserve,ground-failure,losspager,origin,phas...</td>\n      <td>600.0</td>\n      <td>1539217505598</td>\n      <td>https://earthquake.usgs.gov/earthquakes/eventp...</td>\n    </tr>\n    <tr>\n      <th>862</th>\n      <td>green</td>\n      <td>4.3</td>\n      <td>1000ha6q</td>\n      <td>https://earthquake.usgs.gov/fdsnws/event/1/que...</td>\n      <td>1.051</td>\n      <td>170.0</td>\n      <td>27.0</td>\n      <td>,us1000ha6q,</td>\n      <td>6.0</td>\n      <td>mww</td>\n      <td>...</td>\n      <td>,us,</td>\n      <td>reviewed</td>\n      <td>1539197095310</td>\n      <td>M 6.0 - 39km NNE of Sumberanyar, Indonesia</td>\n      <td>0</td>\n      <td>earthquake</td>\n      <td>,dyfi,geoserve,ground-failure,losspager,moment...</td>\n      <td>480.0</td>\n      <td>1539515759040</td>\n      <td>https://earthquake.usgs.gov/earthquakes/eventp...</td>\n    </tr>\n    <tr>\n      <th>1267</th>\n      <td>green</td>\n      <td>NaN</td>\n      <td>1000h97j</td>\n      <td>https://earthquake.usgs.gov/fdsnws/event/1/que...</td>\n      <td>3.806</td>\n      <td>NaN</td>\n      <td>92.0</td>\n      <td>,us1000h97j,</td>\n      <td>6.0</td>\n      <td>mww</td>\n      <td>...</td>\n      <td>,us,</td>\n      <td>reviewed</td>\n      <td>1539071114670</td>\n      <td>M 6.0 - 138km S of Severo-Kuril'sk, Russia</td>\n      <td>0</td>\n      <td>earthquake</td>\n      <td>,geoserve,ground-failure,losspager,moment-tens...</td>\n      <td>600.0</td>\n      <td>1539213313361</td>\n      <td>https://earthquake.usgs.gov/earthquakes/eventp...</td>\n    </tr>\n    <tr>\n      <th>3699</th>\n      <td>green</td>\n      <td>NaN</td>\n      <td>1000h5eg</td>\n      <td>https://earthquake.usgs.gov/fdsnws/event/1/que...</td>\n      <td>2.715</td>\n      <td>NaN</td>\n      <td>46.0</td>\n      <td>,us1000h5eg,</td>\n      <td>6.0</td>\n      <td>mww</td>\n      <td>...</td>\n      <td>,us,</td>\n      <td>reviewed</td>\n      <td>1538438383070</td>\n      <td>M 6.0 - 33km S of Nggongi Satu, Indonesia</td>\n      <td>1</td>\n      <td>earthquake</td>\n      <td>,geoserve,ground-failure,losspager,moment-tens...</td>\n      <td>480.0</td>\n      <td>1538457423108</td>\n      <td>https://earthquake.usgs.gov/earthquakes/eventp...</td>\n    </tr>\n    <tr>\n      <th>4363</th>\n      <td>green</td>\n      <td>2.2</td>\n      <td>1000h4l1</td>\n      <td>https://earthquake.usgs.gov/fdsnws/event/1/que...</td>\n      <td>3.728</td>\n      <td>1.0</td>\n      <td>23.0</td>\n      <td>,at00pfv7ja,us1000h4l1,pt18273000,</td>\n      <td>6.7</td>\n      <td>mww</td>\n      <td>...</td>\n      <td>,at,us,pt,</td>\n      <td>reviewed</td>\n      <td>1538304744240</td>\n      <td>M 6.7 - 263km NNE of Ndoi Island, Fiji</td>\n      <td>1</td>\n      <td>earthquake</td>\n      <td>,dyfi,geoserve,impact-link,losspager,moment-te...</td>\n      <td>-720.0</td>\n      <td>1539348741510</td>\n      <td>https://earthquake.usgs.gov/earthquakes/eventp...</td>\n    </tr>\n    <tr>\n      <th>5263</th>\n      <td>red</td>\n      <td>8.4</td>\n      <td>1000h3p4</td>\n      <td>https://earthquake.usgs.gov/fdsnws/event/1/que...</td>\n      <td>1.589</td>\n      <td>18.0</td>\n      <td>27.0</td>\n      <td>,us1000h3p4,us1000h4p4,</td>\n      <td>7.5</td>\n      <td>mww</td>\n      <td>...</td>\n      <td>,us,us,</td>\n      <td>reviewed</td>\n      <td>1538128963480</td>\n      <td>M 7.5 - 78km N of Palu, Indonesia</td>\n      <td>1</td>\n      <td>earthquake</td>\n      <td>,dyfi,finite-fault,general-text,geoserve,groun...</td>\n      <td>480.0</td>\n      <td>1539123134531</td>\n      <td>https://earthquake.usgs.gov/earthquakes/eventp...</td>\n    </tr>\n    <tr>\n      <th>5323</th>\n      <td>green</td>\n      <td>NaN</td>\n      <td>1000h3mf</td>\n      <td>https://earthquake.usgs.gov/fdsnws/event/1/que...</td>\n      <td>1.812</td>\n      <td>NaN</td>\n      <td>33.0</td>\n      <td>,us1000h3mf,</td>\n      <td>6.1</td>\n      <td>mww</td>\n      <td>...</td>\n      <td>,us,</td>\n      <td>reviewed</td>\n      <td>1538118001950</td>\n      <td>M 6.1 - 55km NNW of Palu, Indonesia</td>\n      <td>1</td>\n      <td>earthquake</td>\n      <td>,geoserve,ground-failure,losspager,moment-tens...</td>\n      <td>480.0</td>\n      <td>1538158590933</td>\n      <td>https://earthquake.usgs.gov/earthquakes/eventp...</td>\n    </tr>\n    <tr>\n      <th>9211</th>\n      <td>green</td>\n      <td>NaN</td>\n      <td>2000hg93</td>\n      <td>https://earthquake.usgs.gov/fdsnws/event/1/que...</td>\n      <td>8.749</td>\n      <td>NaN</td>\n      <td>22.0</td>\n      <td>,us2000hg93,</td>\n      <td>6.0</td>\n      <td>mww</td>\n      <td>...</td>\n      <td>,us,</td>\n      <td>reviewed</td>\n      <td>1537255661330</td>\n      <td>M 6.0 - Southwest Indian Ridge</td>\n      <td>0</td>\n      <td>earthquake</td>\n      <td>,geoserve,losspager,moment-tensor,origin,phase...</td>\n      <td>180.0</td>\n      <td>1538206958458</td>\n      <td>https://earthquake.usgs.gov/earthquakes/eventp...</td>\n    </tr>\n  </tbody>\n</table>\n<p>12 rows × 26 columns</p>\n</div>"
     },
     "execution_count": 20,
     "metadata": {},
     "output_type": "execute_result"
    }
   ],
   "source": [
    "df[df.mag>=6.0]"
   ],
   "metadata": {
    "collapsed": false,
    "pycharm": {
     "name": "#%%\n"
    }
   }
  },
  {
   "cell_type": "code",
   "execution_count": 26,
   "outputs": [
    {
     "data": {
      "text/plain": "      alert  mag magType                                       title  tsunami  \\\n837   green  7.0     mww  M 7.0 - 117km E of Kimbe, Papua New Guinea        1   \n5263    red  7.5     mww           M 7.5 - 78km N of Palu, Indonesia        1   \n\n            type  \n837   earthquake  \n5263  earthquake  ",
      "text/html": "<div>\n<style scoped>\n    .dataframe tbody tr th:only-of-type {\n        vertical-align: middle;\n    }\n\n    .dataframe tbody tr th {\n        vertical-align: top;\n    }\n\n    .dataframe thead th {\n        text-align: right;\n    }\n</style>\n<table border=\"1\" class=\"dataframe\">\n  <thead>\n    <tr style=\"text-align: right;\">\n      <th></th>\n      <th>alert</th>\n      <th>mag</th>\n      <th>magType</th>\n      <th>title</th>\n      <th>tsunami</th>\n      <th>type</th>\n    </tr>\n  </thead>\n  <tbody>\n    <tr>\n      <th>837</th>\n      <td>green</td>\n      <td>7.0</td>\n      <td>mww</td>\n      <td>M 7.0 - 117km E of Kimbe, Papua New Guinea</td>\n      <td>1</td>\n      <td>earthquake</td>\n    </tr>\n    <tr>\n      <th>5263</th>\n      <td>red</td>\n      <td>7.5</td>\n      <td>mww</td>\n      <td>M 7.5 - 78km N of Palu, Indonesia</td>\n      <td>1</td>\n      <td>earthquake</td>\n    </tr>\n  </tbody>\n</table>\n</div>"
     },
     "execution_count": 26,
     "metadata": {},
     "output_type": "execute_result"
    }
   ],
   "source": [
    "df.loc[df.mag>=7,['alert', 'mag', 'magType', 'title', 'tsunami', 'type']]"
   ],
   "metadata": {
    "collapsed": false,
    "pycharm": {
     "name": "#%%\n"
    }
   }
  },
  {
   "cell_type": "code",
   "execution_count": 33,
   "outputs": [
    {
     "data": {
      "text/plain": "Empty DataFrame\nColumns: [alert, mag, magType, title, tsunami, type]\nIndex: []",
      "text/html": "<div>\n<style scoped>\n    .dataframe tbody tr th:only-of-type {\n        vertical-align: middle;\n    }\n\n    .dataframe tbody tr th {\n        vertical-align: top;\n    }\n\n    .dataframe thead th {\n        text-align: right;\n    }\n</style>\n<table border=\"1\" class=\"dataframe\">\n  <thead>\n    <tr style=\"text-align: right;\">\n      <th></th>\n      <th>alert</th>\n      <th>mag</th>\n      <th>magType</th>\n      <th>title</th>\n      <th>tsunami</th>\n      <th>type</th>\n    </tr>\n  </thead>\n  <tbody>\n  </tbody>\n</table>\n</div>"
     },
     "execution_count": 33,
     "metadata": {},
     "output_type": "execute_result"
    }
   ],
   "source": [
    "df.loc[(df.mag==1) & (df.alert=='red'), ['alert', 'mag', 'magType', 'title', 'tsunami', 'type']]\n",
    "\n"
   ],
   "metadata": {
    "collapsed": false,
    "pycharm": {
     "name": "#%%\n"
    }
   }
  },
  {
   "cell_type": "code",
   "execution_count": 34,
   "outputs": [
    {
     "data": {
      "text/plain": "     alert  mag magType                                         title  \\\n187    NaN  1.0      ml               M 1.0 - 12km S of Mogul, Nevada   \n396    NaN  1.0      ml     M 1.0 - 54km ENE of Sutton-Alpine, Alaska   \n406    NaN  1.0      ml               M 1.0 - 33km W of Ester, Alaska   \n418    NaN  1.0      ml            M 1.0 - 61km S of Cantwell, Alaska   \n479    NaN  1.0      ml         M 1.0 - 25km SSE of Yerington, Nevada   \n...    ...  ...     ...                                           ...   \n9234   NaN  1.0      ml  M 1.0 - 60km S of Manley Hot Springs, Alaska   \n9238   NaN  1.0      ml     M 1.0 - 40km SE of Tanaga Volcano, Alaska   \n9291   NaN  1.0      ml   M 1.0 - 26km SSE of Redoubt Volcano, Alaska   \n9301   NaN  1.0      ml   M 1.0 - 16km SSE of Redoubt Volcano, Alaska   \n9328   NaN  1.0      ml                   M 1.0 - 3km W of Julian, CA   \n\n      tsunami        type  \n187         0  earthquake  \n396         0  earthquake  \n406         0  earthquake  \n418         0  earthquake  \n479         0  earthquake  \n...       ...         ...  \n9234        0  earthquake  \n9238        0  earthquake  \n9291        0  earthquake  \n9301        0  earthquake  \n9328        0  earthquake  \n\n[188 rows x 6 columns]",
      "text/html": "<div>\n<style scoped>\n    .dataframe tbody tr th:only-of-type {\n        vertical-align: middle;\n    }\n\n    .dataframe tbody tr th {\n        vertical-align: top;\n    }\n\n    .dataframe thead th {\n        text-align: right;\n    }\n</style>\n<table border=\"1\" class=\"dataframe\">\n  <thead>\n    <tr style=\"text-align: right;\">\n      <th></th>\n      <th>alert</th>\n      <th>mag</th>\n      <th>magType</th>\n      <th>title</th>\n      <th>tsunami</th>\n      <th>type</th>\n    </tr>\n  </thead>\n  <tbody>\n    <tr>\n      <th>187</th>\n      <td>NaN</td>\n      <td>1.0</td>\n      <td>ml</td>\n      <td>M 1.0 - 12km S of Mogul, Nevada</td>\n      <td>0</td>\n      <td>earthquake</td>\n    </tr>\n    <tr>\n      <th>396</th>\n      <td>NaN</td>\n      <td>1.0</td>\n      <td>ml</td>\n      <td>M 1.0 - 54km ENE of Sutton-Alpine, Alaska</td>\n      <td>0</td>\n      <td>earthquake</td>\n    </tr>\n    <tr>\n      <th>406</th>\n      <td>NaN</td>\n      <td>1.0</td>\n      <td>ml</td>\n      <td>M 1.0 - 33km W of Ester, Alaska</td>\n      <td>0</td>\n      <td>earthquake</td>\n    </tr>\n    <tr>\n      <th>418</th>\n      <td>NaN</td>\n      <td>1.0</td>\n      <td>ml</td>\n      <td>M 1.0 - 61km S of Cantwell, Alaska</td>\n      <td>0</td>\n      <td>earthquake</td>\n    </tr>\n    <tr>\n      <th>479</th>\n      <td>NaN</td>\n      <td>1.0</td>\n      <td>ml</td>\n      <td>M 1.0 - 25km SSE of Yerington, Nevada</td>\n      <td>0</td>\n      <td>earthquake</td>\n    </tr>\n    <tr>\n      <th>...</th>\n      <td>...</td>\n      <td>...</td>\n      <td>...</td>\n      <td>...</td>\n      <td>...</td>\n      <td>...</td>\n    </tr>\n    <tr>\n      <th>9234</th>\n      <td>NaN</td>\n      <td>1.0</td>\n      <td>ml</td>\n      <td>M 1.0 - 60km S of Manley Hot Springs, Alaska</td>\n      <td>0</td>\n      <td>earthquake</td>\n    </tr>\n    <tr>\n      <th>9238</th>\n      <td>NaN</td>\n      <td>1.0</td>\n      <td>ml</td>\n      <td>M 1.0 - 40km SE of Tanaga Volcano, Alaska</td>\n      <td>0</td>\n      <td>earthquake</td>\n    </tr>\n    <tr>\n      <th>9291</th>\n      <td>NaN</td>\n      <td>1.0</td>\n      <td>ml</td>\n      <td>M 1.0 - 26km SSE of Redoubt Volcano, Alaska</td>\n      <td>0</td>\n      <td>earthquake</td>\n    </tr>\n    <tr>\n      <th>9301</th>\n      <td>NaN</td>\n      <td>1.0</td>\n      <td>ml</td>\n      <td>M 1.0 - 16km SSE of Redoubt Volcano, Alaska</td>\n      <td>0</td>\n      <td>earthquake</td>\n    </tr>\n    <tr>\n      <th>9328</th>\n      <td>NaN</td>\n      <td>1.0</td>\n      <td>ml</td>\n      <td>M 1.0 - 3km W of Julian, CA</td>\n      <td>0</td>\n      <td>earthquake</td>\n    </tr>\n  </tbody>\n</table>\n<p>188 rows × 6 columns</p>\n</div>"
     },
     "execution_count": 34,
     "metadata": {},
     "output_type": "execute_result"
    }
   ],
   "source": [
    "df.loc[(df.mag==1) | (df.alert=='red'), ['alert', 'mag', 'magType', 'title', 'tsunami', 'type']]"
   ],
   "metadata": {
    "collapsed": false,
    "pycharm": {
     "name": "#%%\n"
    }
   }
  },
  {
   "cell_type": "code",
   "execution_count": 40,
   "outputs": [
    {
     "data": {
      "text/plain": "      alert  mag magType                                        title  \\\n1015  green  5.0      ml     M 5.0 - 61km SSW of Chignik Lake, Alaska   \n1273  green  4.0      ml          M 4.0 - 71km SW of Kaktovik, Alaska   \n1795  green  4.0      ml           M 4.0 - 60km WNW of Valdez, Alaska   \n2752  green  4.0      ml         M 4.0 - 67km SSW of Kaktovik, Alaska   \n3260  green  3.9      ml       M 3.9 - 44km N of North Nenana, Alaska   \n4101  green  4.2      ml  M 4.2 - 131km NNW of Arctic Village, Alaska   \n6897  green  3.8      ml         M 3.8 - 80km SSW of Kaktovik, Alaska   \n8524  green  3.8      ml         M 3.8 - 69km SSW of Kaktovik, Alaska   \n9133  green  5.1      ml         M 5.1 - 64km SSW of Kaktovik, Alaska   \n\n      tsunami        type  \n1015        1  earthquake  \n1273        1  earthquake  \n1795        1  earthquake  \n2752        1  earthquake  \n3260        0  earthquake  \n4101        0  earthquake  \n6897        0  earthquake  \n8524        0  earthquake  \n9133        1  earthquake  ",
      "text/html": "<div>\n<style scoped>\n    .dataframe tbody tr th:only-of-type {\n        vertical-align: middle;\n    }\n\n    .dataframe tbody tr th {\n        vertical-align: top;\n    }\n\n    .dataframe thead th {\n        text-align: right;\n    }\n</style>\n<table border=\"1\" class=\"dataframe\">\n  <thead>\n    <tr style=\"text-align: right;\">\n      <th></th>\n      <th>alert</th>\n      <th>mag</th>\n      <th>magType</th>\n      <th>title</th>\n      <th>tsunami</th>\n      <th>type</th>\n    </tr>\n  </thead>\n  <tbody>\n    <tr>\n      <th>1015</th>\n      <td>green</td>\n      <td>5.0</td>\n      <td>ml</td>\n      <td>M 5.0 - 61km SSW of Chignik Lake, Alaska</td>\n      <td>1</td>\n      <td>earthquake</td>\n    </tr>\n    <tr>\n      <th>1273</th>\n      <td>green</td>\n      <td>4.0</td>\n      <td>ml</td>\n      <td>M 4.0 - 71km SW of Kaktovik, Alaska</td>\n      <td>1</td>\n      <td>earthquake</td>\n    </tr>\n    <tr>\n      <th>1795</th>\n      <td>green</td>\n      <td>4.0</td>\n      <td>ml</td>\n      <td>M 4.0 - 60km WNW of Valdez, Alaska</td>\n      <td>1</td>\n      <td>earthquake</td>\n    </tr>\n    <tr>\n      <th>2752</th>\n      <td>green</td>\n      <td>4.0</td>\n      <td>ml</td>\n      <td>M 4.0 - 67km SSW of Kaktovik, Alaska</td>\n      <td>1</td>\n      <td>earthquake</td>\n    </tr>\n    <tr>\n      <th>3260</th>\n      <td>green</td>\n      <td>3.9</td>\n      <td>ml</td>\n      <td>M 3.9 - 44km N of North Nenana, Alaska</td>\n      <td>0</td>\n      <td>earthquake</td>\n    </tr>\n    <tr>\n      <th>4101</th>\n      <td>green</td>\n      <td>4.2</td>\n      <td>ml</td>\n      <td>M 4.2 - 131km NNW of Arctic Village, Alaska</td>\n      <td>0</td>\n      <td>earthquake</td>\n    </tr>\n    <tr>\n      <th>6897</th>\n      <td>green</td>\n      <td>3.8</td>\n      <td>ml</td>\n      <td>M 3.8 - 80km SSW of Kaktovik, Alaska</td>\n      <td>0</td>\n      <td>earthquake</td>\n    </tr>\n    <tr>\n      <th>8524</th>\n      <td>green</td>\n      <td>3.8</td>\n      <td>ml</td>\n      <td>M 3.8 - 69km SSW of Kaktovik, Alaska</td>\n      <td>0</td>\n      <td>earthquake</td>\n    </tr>\n    <tr>\n      <th>9133</th>\n      <td>green</td>\n      <td>5.1</td>\n      <td>ml</td>\n      <td>M 5.1 - 64km SSW of Kaktovik, Alaska</td>\n      <td>1</td>\n      <td>earthquake</td>\n    </tr>\n  </tbody>\n</table>\n</div>"
     },
     "execution_count": 40,
     "metadata": {},
     "output_type": "execute_result"
    }
   ],
   "source": [
    "df.loc[(df.place.str.contains('Alaska'))& (df.alert.notnull()), ['alert', 'mag', 'magType', 'title', 'tsunami', 'type']\n",
    "]"
   ],
   "metadata": {
    "collapsed": false,
    "pycharm": {
     "name": "#%%\n"
    }
   }
  },
  {
   "cell_type": "code",
   "execution_count": 41,
   "outputs": [],
   "source": [
    "df_to_modify = df.copy(deep=True)"
   ],
   "metadata": {
    "collapsed": false,
    "pycharm": {
     "name": "#%%\n"
    }
   }
  },
  {
   "cell_type": "code",
   "execution_count": 43,
   "outputs": [
    {
     "data": {
      "text/plain": "2034802104480"
     },
     "execution_count": 43,
     "metadata": {},
     "output_type": "execute_result"
    }
   ],
   "source": [
    "\n",
    "id(df)"
   ],
   "metadata": {
    "collapsed": false,
    "pycharm": {
     "name": "#%%\n"
    }
   }
  },
  {
   "cell_type": "code",
   "execution_count": 44,
   "outputs": [
    {
     "data": {
      "text/plain": "2034932603568"
     },
     "execution_count": 44,
     "metadata": {},
     "output_type": "execute_result"
    }
   ],
   "source": [
    "id(df_to_modify)"
   ],
   "metadata": {
    "collapsed": false,
    "pycharm": {
     "name": "#%%\n"
    }
   }
  },
  {
   "cell_type": "code",
   "execution_count": null,
   "outputs": [],
   "source": [],
   "metadata": {
    "collapsed": false,
    "pycharm": {
     "name": "#%%\n"
    }
   }
  },
  {
   "cell_type": "code",
   "execution_count": null,
   "outputs": [],
   "source": [],
   "metadata": {
    "collapsed": false,
    "pycharm": {
     "name": "#%%\n"
    }
   }
  }
 ],
 "metadata": {
  "kernelspec": {
   "display_name": "Python 3",
   "language": "python",
   "name": "python3"
  },
  "language_info": {
   "codemirror_mode": {
    "name": "ipython",
    "version": 2
   },
   "file_extension": ".py",
   "mimetype": "text/x-python",
   "name": "python",
   "nbconvert_exporter": "python",
   "pygments_lexer": "ipython2",
   "version": "2.7.6"
  }
 },
 "nbformat": 4,
 "nbformat_minor": 0
}